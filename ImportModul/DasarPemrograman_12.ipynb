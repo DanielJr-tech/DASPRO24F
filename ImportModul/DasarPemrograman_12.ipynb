{
 "cells": [
  {
   "cell_type": "code",
   "execution_count": 58,
   "id": "79881981-c94d-49e5-8bcc-03c6be4dfb51",
   "metadata": {},
   "outputs": [],
   "source": [
    "import Aritmatika.math as math\n",
    "import Konversi.convert as convert\n",
    "import Ubah.ubah as ceng"
   ]
  },
  {
   "cell_type": "code",
   "execution_count": 60,
   "id": "91fca989-636e-4bd8-8fe6-27ca6d412574",
   "metadata": {},
   "outputs": [],
   "source": [
    "def aritmatika():\n",
    "    num1 = int(input('Masukan angka pertama yang akan dikalkulasi:'))\n",
    "    num2 = int(input('Masukan angka kedua yang akan dikalkulasi:'))\n",
    "    print(\"\"\"\n",
    "    Mau yang mana\n",
    "    1. Penjumlahan\n",
    "    2. Perkalian\n",
    "    3. Perpangkatan\n",
    "    \"\"\")\n",
    "    choice = int(input(\"(1/2/3): \"))\n",
    "    if choice == 1:\n",
    "        r1 = math.add(num1,num2)\n",
    "        print(r1)\n",
    "    elif choice == 2:\n",
    "        r1 = math.multiply(num1,num2)\n",
    "        print(r1)\n",
    "    elif choice == 3:\n",
    "        r1 = math.pow(num1,num2)\n",
    "        print(r1)\n",
    "    else:\n",
    "        print('Input hasil tidak valid')"
   ]
  },
  {
   "cell_type": "code",
   "execution_count": 62,
   "id": "c2911b31-362b-464e-a314-8efbe4224d9a",
   "metadata": {},
   "outputs": [],
   "source": [
    "def konversi():\n",
    "    print(\"\"\"\n",
    "    Mau yang mana\n",
    "    1. M To CM\n",
    "    2. CM To M\n",
    "    \"\"\")\n",
    "    choice = int(input(\"(1/2): \"))\n",
    "    if choice == 1:\n",
    "        cm = int(input(\"Masukan nilai CM\"))\n",
    "        r1 = convert.cmToMeter(cm)\n",
    "        print(f\"CM ke Meter adalah: {r1}\")\n",
    "    elif choice == 2:\n",
    "        meter = int(input(\"Masukan nilai Meter\"))\n",
    "        r2 = convert.meterToCM(meter)\n",
    "        print(f\"Meter ke CM adalah: {r2}\")"
   ]
  },
  {
   "cell_type": "code",
   "execution_count": 64,
   "id": "0504f0c7-4f28-4a61-9bef-52bac6bf9002",
   "metadata": {},
   "outputs": [],
   "source": [
    "def ubah():\n",
    "    desimal = int(input(\"Masukan Bilangan Desimal: \"))\n",
    "    print(\"\"\"\n",
    "    Pilih Metode:\n",
    "    1. Decimal to Biner\n",
    "    2. Decimal to Octal\n",
    "    3. Decimal to Hexa\n",
    "    \"\"\")\n",
    "    choice = int(input(\"(1/2/3): \"))\n",
    "    if choice == 1:\n",
    "        r1 = ceng.desimalToBiner(desimal)\n",
    "        print(f\"Desimal ke biner adalah: {r1}\")\n",
    "    elif choice == 2:\n",
    "        r1 = ceng.desimalToOctal(desimal)\n",
    "        print(f\"Desimal ke octal adalah: {r1}\")\n",
    "    elif choice == 3:\n",
    "        r1 = ceng.desimalToHexa(desimal)\n",
    "        print(f\"Desimal ke hexa adalah: {r1}\")\n",
    "    else:\n",
    "        print(\"Input tidak valid!\")"
   ]
  },
  {
   "cell_type": "code",
   "execution_count": null,
   "id": "1bff68df-6917-4b0e-96ce-c6fff4646182",
   "metadata": {},
   "outputs": [
    {
     "name": "stdout",
     "output_type": "stream",
     "text": [
      "\n",
      "    Mau yang mana\n",
      "    1. Arimatika \n",
      "    2. Konversi\n",
      "    3. Ubah Biangan\n",
      "    4. Exit\n",
      "    \n"
     ]
    },
    {
     "name": "stdin",
     "output_type": "stream",
     "text": [
      " 3\n",
      "Masukan Bilangan Desimal:  3\n"
     ]
    },
    {
     "name": "stdout",
     "output_type": "stream",
     "text": [
      "\n",
      "    Pilih Metode:\n",
      "    1. Decimal to Biner\n",
      "    2. Decimal to Octal\n",
      "    3. Decimal to Hexa\n",
      "    \n"
     ]
    },
    {
     "name": "stdin",
     "output_type": "stream",
     "text": [
      "(1/2/3):  1\n"
     ]
    },
    {
     "name": "stdout",
     "output_type": "stream",
     "text": [
      "Desimal ke biner adalah: 0b11\n",
      "\n",
      "    Mau yang mana\n",
      "    1. Arimatika \n",
      "    2. Konversi\n",
      "    3. Ubah Biangan\n",
      "    4. Exit\n",
      "    \n"
     ]
    },
    {
     "name": "stdin",
     "output_type": "stream",
     "text": [
      " 1\n",
      "Masukan angka pertama yang akan dikalkulasi: 1\n",
      "Masukan angka kedua yang akan dikalkulasi: 1\n"
     ]
    },
    {
     "name": "stdout",
     "output_type": "stream",
     "text": [
      "\n",
      "    Mau yang mana\n",
      "    1. Penjumlahan\n",
      "    2. Perkalian\n",
      "    3. Perpangkatan\n",
      "    \n"
     ]
    },
    {
     "name": "stdin",
     "output_type": "stream",
     "text": [
      "(1/2/3):  1\n"
     ]
    },
    {
     "name": "stdout",
     "output_type": "stream",
     "text": [
      "2\n",
      "\n",
      "    Mau yang mana\n",
      "    1. Arimatika \n",
      "    2. Konversi\n",
      "    3. Ubah Biangan\n",
      "    4. Exit\n",
      "    \n"
     ]
    },
    {
     "name": "stdin",
     "output_type": "stream",
     "text": [
      " 1\n",
      "Masukan angka pertama yang akan dikalkulasi: 2\n",
      "Masukan angka kedua yang akan dikalkulasi: 2\n"
     ]
    },
    {
     "name": "stdout",
     "output_type": "stream",
     "text": [
      "\n",
      "    Mau yang mana\n",
      "    1. Penjumlahan\n",
      "    2. Perkalian\n",
      "    3. Perpangkatan\n",
      "    \n"
     ]
    },
    {
     "name": "stdin",
     "output_type": "stream",
     "text": [
      "(1/2/3):  2\n"
     ]
    },
    {
     "name": "stdout",
     "output_type": "stream",
     "text": [
      "4\n",
      "\n",
      "    Mau yang mana\n",
      "    1. Arimatika \n",
      "    2. Konversi\n",
      "    3. Ubah Biangan\n",
      "    4. Exit\n",
      "    \n"
     ]
    },
    {
     "name": "stdin",
     "output_type": "stream",
     "text": [
      " 1\n",
      "Masukan angka pertama yang akan dikalkulasi: 3\n",
      "Masukan angka kedua yang akan dikalkulasi: 3\n"
     ]
    },
    {
     "name": "stdout",
     "output_type": "stream",
     "text": [
      "\n",
      "    Mau yang mana\n",
      "    1. Penjumlahan\n",
      "    2. Perkalian\n",
      "    3. Perpangkatan\n",
      "    \n"
     ]
    },
    {
     "name": "stdin",
     "output_type": "stream",
     "text": [
      "(1/2/3):  3\n"
     ]
    },
    {
     "name": "stdout",
     "output_type": "stream",
     "text": [
      "27\n",
      "\n",
      "    Mau yang mana\n",
      "    1. Arimatika \n",
      "    2. Konversi\n",
      "    3. Ubah Biangan\n",
      "    4. Exit\n",
      "    \n"
     ]
    },
    {
     "name": "stdin",
     "output_type": "stream",
     "text": [
      " 2\n"
     ]
    },
    {
     "name": "stdout",
     "output_type": "stream",
     "text": [
      "\n",
      "    Mau yang mana\n",
      "    1. M To CM\n",
      "    2. CM To M\n",
      "    \n"
     ]
    },
    {
     "name": "stdin",
     "output_type": "stream",
     "text": [
      "(1/2):  1\n",
      "Masukan nilai CM 500\n"
     ]
    },
    {
     "name": "stdout",
     "output_type": "stream",
     "text": [
      "CM ke Meter adalah: 5.0\n",
      "\n",
      "    Mau yang mana\n",
      "    1. Arimatika \n",
      "    2. Konversi\n",
      "    3. Ubah Biangan\n",
      "    4. Exit\n",
      "    \n"
     ]
    },
    {
     "name": "stdin",
     "output_type": "stream",
     "text": [
      " 2\n"
     ]
    },
    {
     "name": "stdout",
     "output_type": "stream",
     "text": [
      "\n",
      "    Mau yang mana\n",
      "    1. M To CM\n",
      "    2. CM To M\n",
      "    \n"
     ]
    },
    {
     "name": "stdin",
     "output_type": "stream",
     "text": [
      "(1/2):  1\n",
      "Masukan nilai CM 50\n"
     ]
    },
    {
     "name": "stdout",
     "output_type": "stream",
     "text": [
      "CM ke Meter adalah: 0.5\n",
      "\n",
      "    Mau yang mana\n",
      "    1. Arimatika \n",
      "    2. Konversi\n",
      "    3. Ubah Biangan\n",
      "    4. Exit\n",
      "    \n"
     ]
    },
    {
     "name": "stdin",
     "output_type": "stream",
     "text": [
      " 2\n"
     ]
    },
    {
     "name": "stdout",
     "output_type": "stream",
     "text": [
      "\n",
      "    Mau yang mana\n",
      "    1. M To CM\n",
      "    2. CM To M\n",
      "    \n"
     ]
    },
    {
     "name": "stdin",
     "output_type": "stream",
     "text": [
      "(1/2):  2\n",
      "Masukan nilai Meter 40\n"
     ]
    },
    {
     "name": "stdout",
     "output_type": "stream",
     "text": [
      "Meter ke CM adalah: 4000\n",
      "\n",
      "    Mau yang mana\n",
      "    1. Arimatika \n",
      "    2. Konversi\n",
      "    3. Ubah Biangan\n",
      "    4. Exit\n",
      "    \n"
     ]
    },
    {
     "name": "stdin",
     "output_type": "stream",
     "text": [
      " 3\n",
      "Masukan Bilangan Desimal:  3\n"
     ]
    },
    {
     "name": "stdout",
     "output_type": "stream",
     "text": [
      "\n",
      "    Pilih Metode:\n",
      "    1. Decimal to Biner\n",
      "    2. Decimal to Octal\n",
      "    3. Decimal to Hexa\n",
      "    \n"
     ]
    },
    {
     "name": "stdin",
     "output_type": "stream",
     "text": [
      "(1/2/3):  1\n"
     ]
    },
    {
     "name": "stdout",
     "output_type": "stream",
     "text": [
      "Desimal ke biner adalah: 0b11\n",
      "\n",
      "    Mau yang mana\n",
      "    1. Arimatika \n",
      "    2. Konversi\n",
      "    3. Ubah Biangan\n",
      "    4. Exit\n",
      "    \n"
     ]
    },
    {
     "name": "stdin",
     "output_type": "stream",
     "text": [
      " 3\n",
      "Masukan Bilangan Desimal:  3\n"
     ]
    },
    {
     "name": "stdout",
     "output_type": "stream",
     "text": [
      "\n",
      "    Pilih Metode:\n",
      "    1. Decimal to Biner\n",
      "    2. Decimal to Octal\n",
      "    3. Decimal to Hexa\n",
      "    \n"
     ]
    },
    {
     "name": "stdin",
     "output_type": "stream",
     "text": [
      "(1/2/3):  2\n"
     ]
    },
    {
     "name": "stdout",
     "output_type": "stream",
     "text": [
      "Desimal ke octal adalah: 0o3\n",
      "\n",
      "    Mau yang mana\n",
      "    1. Arimatika \n",
      "    2. Konversi\n",
      "    3. Ubah Biangan\n",
      "    4. Exit\n",
      "    \n"
     ]
    },
    {
     "name": "stdin",
     "output_type": "stream",
     "text": [
      " 3\n",
      "Masukan Bilangan Desimal:  3\n"
     ]
    },
    {
     "name": "stdout",
     "output_type": "stream",
     "text": [
      "\n",
      "    Pilih Metode:\n",
      "    1. Decimal to Biner\n",
      "    2. Decimal to Octal\n",
      "    3. Decimal to Hexa\n",
      "    \n"
     ]
    },
    {
     "name": "stdin",
     "output_type": "stream",
     "text": [
      "(1/2/3):  3\n"
     ]
    },
    {
     "name": "stdout",
     "output_type": "stream",
     "text": [
      "Desimal ke hexa adalah: 0x3\n",
      "\n",
      "    Mau yang mana\n",
      "    1. Arimatika \n",
      "    2. Konversi\n",
      "    3. Ubah Biangan\n",
      "    4. Exit\n",
      "    \n"
     ]
    }
   ],
   "source": [
    "while True:\n",
    "    print(\"\"\"\n",
    "    Mau yang mana\n",
    "    1. Arimatika \n",
    "    2. Konversi\n",
    "    3. Ubah Biangan\n",
    "    4. Exit\n",
    "    \"\"\")\n",
    "    choice = int(input())\n",
    "\n",
    "    if choice == 1:\n",
    "        aritmatika()\n",
    "    elif choice == 2:\n",
    "        konversi()\n",
    "    elif choice == 3:\n",
    "        ubah()\n",
    "    elif choice == 4:\n",
    "        print(\"Terima kasih:)!!! \")\n",
    "        break"
   ]
  },
  {
   "cell_type": "code",
   "execution_count": null,
   "id": "8b36bfa0-adc0-4ee2-a9ff-fc0d4fd185de",
   "metadata": {},
   "outputs": [],
   "source": []
  }
 ],
 "metadata": {
  "kernelspec": {
   "display_name": "Python [conda env:base] *",
   "language": "python",
   "name": "conda-base-py"
  },
  "language_info": {
   "codemirror_mode": {
    "name": "ipython",
    "version": 3
   },
   "file_extension": ".py",
   "mimetype": "text/x-python",
   "name": "python",
   "nbconvert_exporter": "python",
   "pygments_lexer": "ipython3",
   "version": "3.12.9"
  }
 },
 "nbformat": 4,
 "nbformat_minor": 5
}
