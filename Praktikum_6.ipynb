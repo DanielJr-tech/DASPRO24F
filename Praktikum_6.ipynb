{
 "cells": [
  {
   "cell_type": "code",
   "execution_count": 17,
   "id": "05e37ba4-a4cb-4c83-960a-82898fce3a2e",
   "metadata": {},
   "outputs": [
    {
     "name": "stdin",
     "output_type": "stream",
     "text": [
      "Masukan Nilai Coding anda:  90\n",
      "Masukan Nilai Interview anda:  A\n"
     ]
    },
    {
     "name": "stdout",
     "output_type": "stream",
     "text": [
      "Maaf, Kamu Belum Berhasil Menjadi Calon Programmer\n"
     ]
    }
   ],
   "source": [
    "nilai_coding = int(input(\"Masukan Nilai Coding anda: \"))\n",
    "nilai_interview = input(\"Masukan Nilai Interview anda: \")\n",
    "hasil_coding = \"\"\n",
    "hasil_interview = \"\"\n",
    "if nilai_coding > 80:\n",
    "    hasil_coding = \"LOLOS\"\n",
    "elif nilai_coding >60:\n",
    "    hasil_coding = \"DIPERTIMBANGKAN\"\n",
    "else:\n",
    "    hasil_coding = \"GAGAL\"\n",
    "\n",
    "if nilai_interview == \"A\" or nilai_interview == \"B\":\n",
    "    hasil_interview == \"LOLOS\"\n",
    "else:\n",
    "    hasil_interview == \"GAGAL\"\n",
    "\n",
    "if (hasil_coding == \"LOLOS\" or hasil_coding == \"DIPERTIMBANGKAN\") and hasil_interview == \"LOLOS\":\n",
    "    print(\"Selamat, Kamu Berhasil Menjadi Calon Programmer\")\n",
    "else:\n",
    "    print(\"Maaf, Kamu Belum Berhasil Menjadi Calon Programmer\")"
   ]
  }
 ],
 "metadata": {
  "kernelspec": {
   "display_name": "Python [conda env:base] *",
   "language": "python",
   "name": "conda-base-py"
  },
  "language_info": {
   "codemirror_mode": {
    "name": "ipython",
    "version": 3
   },
   "file_extension": ".py",
   "mimetype": "text/x-python",
   "name": "python",
   "nbconvert_exporter": "python",
   "pygments_lexer": "ipython3",
   "version": "3.12.9"
  }
 },
 "nbformat": 4,
 "nbformat_minor": 5
}
