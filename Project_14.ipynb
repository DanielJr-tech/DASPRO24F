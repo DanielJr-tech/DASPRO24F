{
 "cells": [
  {
   "cell_type": "code",
   "execution_count": 9,
   "id": "3cba0f77-68c6-4295-910a-37b0948aebfa",
   "metadata": {},
   "outputs": [],
   "source": [
    "datalist = []\n",
    "class MinimalDigit(Exception):\n",
    "    pass"
   ]
  },
  {
   "cell_type": "code",
   "execution_count": 11,
   "id": "58c43347-2414-4910-9a49-1c6c958163f5",
   "metadata": {},
   "outputs": [],
   "source": [
    "def addStudent():\n",
    "    id_student = input(\"Masukan ID Mahasiswa:\")\n",
    "    if len(id_student) != 11:\n",
    "        raise MinimalDigit(\"Harus 11 Digit\")\n",
    "    name_student = input(\"Masukan Nama Mahasiswa:\")\n",
    "    if len(name_student) < 6:\n",
    "        raise MinimalDigit(\"Minimal Harus 6 Huruf\")\n",
    "    address_student = input(\"Masukan Alamat Mahasiswa:\")\n",
    "    if len(address_student) < 10:\n",
    "        raise MinimalDigit(\"Minimal Harus 10 Huruf\")\n",
    "    class_student = input(\"Masukan Kelas (TI23/TI24):\")\n",
    "    if class_student != \"TI23\" and class_student != \"TI24\":\n",
    "        raise MinimalDigit(\"Harus TI23/TI24\")\n",
    "    temp = {\"Nim\": id_student,\"nama\": name_student,\"alamat\": address_student,\"kelas\": class_student}\n",
    "    datalist.append(temp)\n"
   ]
  },
  {
   "cell_type": "code",
   "execution_count": 13,
   "id": "80e0dba3-51be-4973-a182-f63a448be135",
   "metadata": {},
   "outputs": [],
   "source": [
    "def readStudent():\n",
    "    print(datalist)"
   ]
  },
  {
   "cell_type": "code",
   "execution_count": 15,
   "id": "e3b5ebe5-9929-41a6-afe0-eb0637c91b8a",
   "metadata": {},
   "outputs": [
    {
     "name": "stdout",
     "output_type": "stream",
     "text": [
      "---Menu--- \n",
      "\n",
      "1.Tambahkan Mahasiswa \n",
      "2.Tampilkan Seluruh Mahasiswa \n",
      "3.Keluar\n"
     ]
    },
    {
     "name": "stdin",
     "output_type": "stream",
     "text": [
      " 1\n",
      "Masukan ID Mahasiswa: 12345678905\n",
      "Masukan Nama Mahasiswa: daniel\n",
      "Masukan Alamat Mahasiswa: Jl Raya Cisaat\n",
      "Masukan Kelas (TI23/TI24): TI24\n"
     ]
    },
    {
     "name": "stdout",
     "output_type": "stream",
     "text": [
      "---Menu--- \n",
      "\n",
      "1.Tambahkan Mahasiswa \n",
      "2.Tampilkan Seluruh Mahasiswa \n",
      "3.Keluar\n"
     ]
    },
    {
     "name": "stdin",
     "output_type": "stream",
     "text": [
      " 2\n"
     ]
    },
    {
     "name": "stdout",
     "output_type": "stream",
     "text": [
      "[{'Nim': '12345678905', 'nama': 'daniel', 'alamat': 'Jl Raya Cisaat', 'kelas': 'TI24'}]\n",
      "---Menu--- \n",
      "\n",
      "1.Tambahkan Mahasiswa \n",
      "2.Tampilkan Seluruh Mahasiswa \n",
      "3.Keluar\n"
     ]
    },
    {
     "name": "stdin",
     "output_type": "stream",
     "text": [
      " 3\n"
     ]
    }
   ],
   "source": [
    "i = True\n",
    "while i is True:\n",
    "    try:\n",
    "        print(\"---Menu--- \\n\\n1.Tambahkan Mahasiswa \\n2.Tampilkan Seluruh Mahasiswa \\n3.Keluar\")\n",
    "        pilihan = int(input())\n",
    "        \n",
    "        if pilihan == 1:\n",
    "            addStudent()\n",
    "        \n",
    "        elif pilihan == 2:\n",
    "            readStudent()\n",
    "        \n",
    "        elif pilihan == 3:\n",
    "            i = False\n",
    "        else:\n",
    "            print(\"Masukan angka yang ada di menu (1-3)\")\n",
    "    except (MinimalDigit) as err:\n",
    "        print(\"Terjadi Kesalahan:\", err)\n",
    "    except ValueError:\n",
    "        print(\"Harus Angka\")"
   ]
  },
  {
   "cell_type": "code",
   "execution_count": null,
   "id": "b3c6320c-370b-49c2-bcb2-798c712e23c4",
   "metadata": {},
   "outputs": [],
   "source": []
  }
 ],
 "metadata": {
  "kernelspec": {
   "display_name": "Python [conda env:base] *",
   "language": "python",
   "name": "conda-base-py"
  },
  "language_info": {
   "codemirror_mode": {
    "name": "ipython",
    "version": 3
   },
   "file_extension": ".py",
   "mimetype": "text/x-python",
   "name": "python",
   "nbconvert_exporter": "python",
   "pygments_lexer": "ipython3",
   "version": "3.12.9"
  }
 },
 "nbformat": 4,
 "nbformat_minor": 5
}
