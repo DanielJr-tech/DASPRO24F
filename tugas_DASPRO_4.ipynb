{
 "cells": [
  {
   "cell_type": "markdown",
   "id": "4e81ebb9-c2f1-4657-ba3b-655e60f01a1a",
   "metadata": {},
   "source": [
    "<h1>Operator Arimatika</h1>"
   ]
  },
  {
   "cell_type": "code",
   "execution_count": 4,
   "id": "3829f2f8-7fe2-40e3-aeaf-3834a98dad1b",
   "metadata": {},
   "outputs": [
    {
     "name": "stdin",
     "output_type": "stream",
     "text": [
      "Apel milik Budi: 12\n",
      "Apel milik Teman: 4\n",
      "Apel tambahan Budi: 8\n"
     ]
    },
    {
     "name": "stdout",
     "output_type": "stream",
     "text": [
      "Hasil Bagi 12 / 4 = 3.0\n",
      "Hasil tambahan 12 + 8 = 20\n"
     ]
    }
   ],
   "source": [
    "x = input(\"Apel milik Budi:\")\n",
    "y = input(\"Apel milik Teman:\")\n",
    "z = input(\"Apel tambahan Budi:\")\n",
    "x = int(x)\n",
    "y = int(y)\n",
    "z = int(z)\n",
    "hasilbagi = x / y\n",
    "tambahan = x + z\n",
    "print(\"Hasil Bagi\",x,\"/\",y,\"=\",hasilbagi)\n",
    "print(\"Hasil tambahan\",x,\"+\",z,\"=\",tambahan)"
   ]
  },
  {
   "cell_type": "markdown",
   "id": "37a3369b-9c9c-425a-bc49-d2c22ccda6ef",
   "metadata": {},
   "source": [
    "<h1>Operator Perbandingan</h1>"
   ]
  },
  {
   "cell_type": "code",
   "execution_count": 7,
   "id": "00ea6d69-b04e-4ae5-9723-89f64fca6baf",
   "metadata": {},
   "outputs": [
    {
     "name": "stdout",
     "output_type": "stream",
     "text": [
      "160 = 165 False\n",
      "160 != 165 True\n",
      "160 > 165 False\n",
      "160 < 165 True\n",
      "160 >= 165 False\n",
      "160 <= 165 True\n"
     ]
    }
   ],
   "source": [
    "Siti = 160\n",
    "Andi = 165\n",
    "\n",
    "print(Siti,\"=\",Andi,Siti==Andi)\n",
    "print(Siti,\"!=\",Andi,Siti!=Andi)\n",
    "print(Siti,\">\",Andi,Siti>Andi)\n",
    "print(Siti,\"<\",Andi,Siti<Andi)\n",
    "print(Siti,\">=\",Andi,Siti>=Andi)\n",
    "print(Siti,\"<=\",Andi,Siti<=Andi)"
   ]
  },
  {
   "cell_type": "markdown",
   "id": "87b2a3d3-8380-4e4f-b9e5-136b602e2c9c",
   "metadata": {},
   "source": [
    "<h1>Operator Logika</h1>"
   ]
  },
  {
   "cell_type": "code",
   "execution_count": 14,
   "id": "b8927c82-f717-496c-848d-3d0b2c191262",
   "metadata": {},
   "outputs": [
    {
     "name": "stdin",
     "output_type": "stream",
     "text": [
      "Apakah cuaca cerah? (True/False): True\n",
      "Apakah PR selesai? (True/False): True\n"
     ]
    },
    {
     "name": "stdout",
     "output_type": "stream",
     "text": [
      "Apakah Budi bisa bermain? : boleh\n"
     ]
    }
   ],
   "source": [
    "Cuaca_cerah = input(\"Apakah cuaca cerah? (True/False):\")\n",
    "PR_selesai = input(\"Apakah PR selesai? (True/False):\") \n",
    "if Cuaca_cerah == \"True\" and PR_selesai == \"True\":\n",
    "    budibisabermain = \"boleh\"\n",
    "else:\n",
    "    budibisabermain = \"jangan\"\n",
    "print(\"Apakah Budi bisa bermain? :\",budibisabermain)"
   ]
  },
  {
   "cell_type": "markdown",
   "id": "1332b5e8-f1fd-439b-b023-27ea4977c598",
   "metadata": {},
   "source": [
    "<h1>Operator Bitwise</h1>"
   ]
  },
  {
   "cell_type": "code",
   "execution_count": 17,
   "id": "c1b1b0e4-db38-43da-b0ac-d91ce9e92efe",
   "metadata": {},
   "outputs": [
    {
     "name": "stdout",
     "output_type": "stream",
     "text": [
      "2\n",
      "7\n",
      "5\n"
     ]
    }
   ],
   "source": [
    "num_1 = 6\n",
    "num_2 = 3\n",
    "\n",
    "print(num_1 & num_2)\n",
    "print(num_1 | num_2)\n",
    "print(num_1 ^ num_2)"
   ]
  },
  {
   "cell_type": "markdown",
   "id": "39d53ce3-1934-4e3f-b6ff-c07cb8fabfce",
   "metadata": {},
   "source": [
    "<h1>Operator Penugansan</h1>"
   ]
  },
  {
   "cell_type": "code",
   "execution_count": 20,
   "id": "75704a3d-5161-43d6-bf01-08b33e0be41d",
   "metadata": {},
   "outputs": [
    {
     "name": "stdout",
     "output_type": "stream",
     "text": [
      "Seorang siswa memiliki uang saldo sebanyak 50000\n",
      "Lalu mengisi uang saldo sebanyak Rp.20000, total uang saldp menjadi 70000\n",
      "Lalu membeli paket data swharga Rp.30000, total uang saldo menjadi 40000\n"
     ]
    }
   ],
   "source": [
    "UangSaldo = 50000\n",
    "\n",
    "print(\"Seorang siswa memiliki uang saldo sebanyak\",UangSaldo)\n",
    "UangSaldo += 20000\n",
    "print(\"Lalu mengisi uang saldo sebanyak Rp.20000, total uang saldp menjadi\",UangSaldo)\n",
    "UangSaldo -= 30000\n",
    "print(\"Lalu membeli paket data swharga Rp.30000, total uang saldo menjadi\",UangSaldo)"
   ]
  },
  {
   "cell_type": "markdown",
   "id": "b75f205d-bb92-4cab-b9fe-dd6602a5de46",
   "metadata": {},
   "source": [
    "<h1>Operator keanggotaaan</h1>"
   ]
  },
  {
   "cell_type": "code",
   "execution_count": 23,
   "id": "dae978f1-984d-4824-ad38-e10986675245",
   "metadata": {},
   "outputs": [
    {
     "name": "stdout",
     "output_type": "stream",
     "text": [
      "False\n",
      "True\n"
     ]
    }
   ],
   "source": [
    "peserta_lomba = [\"Andi\", \"Budi\", \"Citra\", \"Dewi\" ]\n",
    "temukan = \"Eka\"\n",
    "print(temukan in peserta_lomba)\n",
    "\n",
    "kalimat = \"Saya suka belajar Python\"\n",
    "temukan = \"Python\"\n",
    "print(temukan in kalimat)"
   ]
  },
  {
   "cell_type": "markdown",
   "id": "a7c1762d-c799-4db1-b363-340bf4e03881",
   "metadata": {},
   "source": [
    "<h1>Operator Identitas</h1>"
   ]
  },
  {
   "cell_type": "code",
   "execution_count": 26,
   "id": "c2d4358a-08ce-4ab6-9850-8bff8b8ac76f",
   "metadata": {},
   "outputs": [
    {
     "name": "stdout",
     "output_type": "stream",
     "text": [
      "id variabel x adalah 140713101306424\n",
      "id variabel y adalah 140713101306424\n",
      "Apakah x sama dengan y? True\n",
      "Apakah kedua list tersebut mengacu ke objek yang sama? False\n"
     ]
    }
   ],
   "source": [
    "x = 5\n",
    "y = 5\n",
    "print(\"id variabel x adalah\",id(x))\n",
    "print(\"id variabel y adalah\",id(y))\n",
    "print(\"Apakah x sama dengan y?\",x is y)\n",
    "\n",
    "list_1 = [\"2\", \"3\", \"5\", \"7\", \"9\"]\n",
    "list_2 = [\"2\", \"3\", \"5\", \"7\", \"9\"]\n",
    "hasil = list_1 is list_2\n",
    "print(\"Apakah kedua list tersebut mengacu ke objek yang sama?\",hasil)"
   ]
  },
  {
   "cell_type": "markdown",
   "id": "8cc15598-b233-4dcb-99e3-777286c24680",
   "metadata": {},
   "source": [
    "<h1>Operator Ternary</h1>"
   ]
  },
  {
   "cell_type": "code",
   "execution_count": 31,
   "id": "5b0a01ce-c317-47d0-9983-0b4cbd01282f",
   "metadata": {},
   "outputs": [
    {
     "name": "stdin",
     "output_type": "stream",
     "text": [
      "Nilai x: 50\n"
     ]
    },
    {
     "name": "stdout",
     "output_type": "stream",
     "text": [
      "Nilai x lebih kecil dari 100\n"
     ]
    }
   ],
   "source": [
    "x = int(input(\"Nilai x:\"))\n",
    "y = 100\n",
    "islebihtinggi = \"Nilai x lebih besar dari 100\" if x > y else \"Nilai x lebih kecil dari 100\"\n",
    "print(islebihtinggi)"
   ]
  },
  {
   "cell_type": "code",
   "execution_count": 33,
   "id": "8e4d72ab-4730-447f-9cd8-cc274463e839",
   "metadata": {},
   "outputs": [
    {
     "name": "stdin",
     "output_type": "stream",
     "text": [
      "Nilai matkul: 70\n"
     ]
    },
    {
     "name": "stdout",
     "output_type": "stream",
     "text": [
      "Tidak Lulus\n"
     ]
    }
   ],
   "source": [
    "x = int(input(\"Nilai matkul:\"))\n",
    "y = 70\n",
    "islulus = \"Lulus\" if x > y else \"Tidak Lulus\"\n",
    "print(islulus)"
   ]
  }
 ],
 "metadata": {
  "kernelspec": {
   "display_name": "Python [conda env:base] *",
   "language": "python",
   "name": "conda-base-py"
  },
  "language_info": {
   "codemirror_mode": {
    "name": "ipython",
    "version": 3
   },
   "file_extension": ".py",
   "mimetype": "text/x-python",
   "name": "python",
   "nbconvert_exporter": "python",
   "pygments_lexer": "ipython3",
   "version": "3.12.9"
  }
 },
 "nbformat": 4,
 "nbformat_minor": 5
}
