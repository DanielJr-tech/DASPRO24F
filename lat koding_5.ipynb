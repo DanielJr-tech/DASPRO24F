{
 "cells": [
  {
   "cell_type": "markdown",
   "id": "023a2903-ec65-4716-bfb6-5f83a8a2c340",
   "metadata": {},
   "source": [
    "<h1>Biodata</h1>"
   ]
  },
  {
   "cell_type": "code",
   "execution_count": 14,
   "id": "56b6f7aa-7e63-4574-ac99-52661fd5a0ba",
   "metadata": {},
   "outputs": [
    {
     "name": "stdin",
     "output_type": "stream",
     "text": [
      "Masukan Nama Anda:  kalbvak;.\n",
      "Maukan Kelas Anda:  fslahncl;a\n",
      "Masukan Fakultas Anda:  ksabva\n",
      "Masukan NIM Anda:  02397502\n",
      "Masukan Semester Anda:  29036502\n"
     ]
    },
    {
     "name": "stdout",
     "output_type": "stream",
     "text": [
      "\n",
      "Biodata\n",
      " Nama     : kalbvak;.\n",
      " Kelas    : fslahncl;a\n",
      " Fakultas : ksabva\n",
      " NIM      : 2397502\n",
      " Semester : 29036502\n"
     ]
    }
   ],
   "source": [
    "Nama = input(\"Masukan Nama Anda: \")\n",
    "Kelas = input(\"Maukan Kelas Anda: \")\n",
    "Fakultas = input(\"Masukan Fakultas Anda: \")\n",
    "NIM = int(input(\"Masukan NIM Anda: \"))\n",
    "Semester = int(input(\"Masukan Semester Anda: \"))\n",
    "\n",
    "print(f\"\\nBiodata\\n Nama     : {Nama}\\n Kelas    : {Kelas}\\n Fakultas : {Fakultas}\\n NIM      : {NIM}\\n Semester : {Semester}\")"
   ]
  },
  {
   "cell_type": "markdown",
   "id": "6775ae68-4866-434e-99f8-878a66a64b34",
   "metadata": {},
   "source": [
    "<h1>Kode Program</h1>"
   ]
  },
  {
   "cell_type": "code",
   "execution_count": 19,
   "id": "a3d1cbb1-9aca-4462-a78e-fdbc15e2be56",
   "metadata": {},
   "outputs": [
    {
     "name": "stdout",
     "output_type": "stream",
     "text": [
      "a. putra nusa\n",
      "b.  NIVERSITAS N SA P TRA S KAB MI\n",
      "c. SUKABUMI NUSA PUTRA UNIVERSITAS\n",
      "d. U N P S\n",
      "e. TAS  BUMI\n"
     ]
    }
   ],
   "source": [
    "kalimat = \"UNIVERSITAS NUSA PUTRA SUKABUMI\"\n",
    "if kalimat == \"UNIVERSITAS NUSA PUTRA SUKABUMI\":\n",
    "    splitAndLower = kalimat.split(\" \")\n",
    "    splitAndLower = splitAndLower[1:3]\n",
    "    splitAndLower[0],splitAndLower[1], = splitAndLower[1],splitAndLower[0]\n",
    "    splitAndLower = \" \".join(splitAndLower)\n",
    "    splitAndLower = splitAndLower.lower()\n",
    "\n",
    "    replaceU = kalimat.replace(\"U\", \" \")\n",
    "\n",
    "    threeToOne = kalimat.split(\" \")\n",
    "    threeToOne[0],threeToOne[3] = threeToOne[3],threeToOne[0]\n",
    "    threeToOne = \" \".join(threeToOne)\n",
    "\n",
    "    firstLetter = kalimat.split(\" \")\n",
    "    firstLetter = firstLetter[0][0], firstLetter[1][0], firstLetter[2][0], firstLetter[3][0]\n",
    "    firstLetter = \" \".join(firstLetter)\n",
    "\n",
    "    splice = kalimat[8:11], kalimat[14:9], kalimat[27:31]\n",
    "    splice = splice[0], splice[1].replace(\" \", \" \"), splice[2]\n",
    "    splice = \" \".join(splice)\n",
    "\n",
    "    print(\"a.\",splitAndLower)\n",
    "    print(\"b.\",replaceU)\n",
    "    print(\"c.\",threeToOne)\n",
    "    print(\"d.\",firstLetter)\n",
    "    print(\"e.\",splice)"
   ]
  }
 ],
 "metadata": {
  "kernelspec": {
   "display_name": "Python [conda env:base] *",
   "language": "python",
   "name": "conda-base-py"
  },
  "language_info": {
   "codemirror_mode": {
    "name": "ipython",
    "version": 3
   },
   "file_extension": ".py",
   "mimetype": "text/x-python",
   "name": "python",
   "nbconvert_exporter": "python",
   "pygments_lexer": "ipython3",
   "version": "3.12.9"
  }
 },
 "nbformat": 4,
 "nbformat_minor": 5
}
