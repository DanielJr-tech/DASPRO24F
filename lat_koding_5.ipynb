{
 "cells": [
  {
   "cell_type": "code",
   "execution_count": 13,
   "id": "ab2d1883-b00e-4c42-a636-728ae0311dc0",
   "metadata": {},
   "outputs": [
    {
     "name": "stdin",
     "output_type": "stream",
     "text": [
      "Enter your name:  daniel\n"
     ]
    },
    {
     "name": "stdout",
     "output_type": "stream",
     "text": [
      "You entered: daniel\n"
     ]
    }
   ],
   "source": [
    "# Prompt the user to enter a string\n",
    "name = input(\"Enter your name: \")\n",
    "\n",
    "# Display the input string\n",
    "print(\"You entered:\", name)\n"
   ]
  },
  {
   "cell_type": "code",
   "execution_count": 11,
   "id": "d7b00be0-1708-49b6-a2b3-3460458ac3bb",
   "metadata": {},
   "outputs": [
    {
     "name": "stdin",
     "output_type": "stream",
     "text": [
      "Enter the length of the rectangle:  20\n"
     ]
    },
    {
     "name": "stdout",
     "output_type": "stream",
     "text": [
      "Length of the rectangle: 20.0\n"
     ]
    },
    {
     "name": "stdin",
     "output_type": "stream",
     "text": [
      "Enter the width of the rectangle:  30\n"
     ]
    },
    {
     "name": "stdout",
     "output_type": "stream",
     "text": [
      "Width of the rectangle: 30.0\n",
      "Area of the rectangle: 600.0\n"
     ]
    }
   ],
   "source": [
    "# Accept the length of the rectangle from the user\n",
    "length = float(input(\"Enter the length of the rectangle: \"))\n",
    "print(\"Length of the rectangle:\", length)\n",
    "\n",
    "# Accept the width of the rectangle from the user\n",
    "width = float(input(\"Enter the width of the rectangle: \"))\n",
    "print(\"Width of the rectangle:\", width)\n",
    "\n",
    "# Calculate the area of the rectangle\n",
    "area = length * width\n",
    "\n",
    "# Print the area of the rectangle\n",
    "print(\"Area of the rectangle:\", area)\n"
   ]
  },
  {
   "cell_type": "code",
   "execution_count": 17,
   "id": "38447eb9-54f2-40b4-a2da-8d726162d7fb",
   "metadata": {},
   "outputs": [
    {
     "name": "stdout",
     "output_type": "stream",
     "text": [
      "Hello World!\n"
     ]
    }
   ],
   "source": [
    "print(\"Hello World!\")\n"
   ]
  },
  {
   "cell_type": "code",
   "execution_count": 21,
   "id": "7845aa1e-18db-4b86-933b-713873c18fd8",
   "metadata": {},
   "outputs": [
    {
     "name": "stdout",
     "output_type": "stream",
     "text": [
      "5\n"
     ]
    }
   ],
   "source": [
    "mylist = \"Hello\"  \n",
    "x = len(mylist)  \n",
    "print(x)  "
   ]
  },
  {
   "cell_type": "code",
   "execution_count": 27,
   "id": "b01a3b83-214f-4d20-b7d7-6cbe42c8f5e4",
   "metadata": {},
   "outputs": [
    {
     "name": "stdin",
     "output_type": "stream",
     "text": [
      "masukan kata daniel\n"
     ]
    },
    {
     "name": "stdout",
     "output_type": "stream",
     "text": [
      "kata dalam huruf kapital: DANIEL\n"
     ]
    }
   ],
   "source": [
    "kata = input(\"masukan kata\")\n",
    "kata_Besar = kata.upper()\n",
    "print(f\"kata dalam huruf kapital:\", kata_Besar )"
   ]
  },
  {
   "cell_type": "code",
   "execution_count": 29,
   "id": "69ef7fb9-5d23-498c-9e6f-edcb93f0e8e3",
   "metadata": {},
   "outputs": [
    {
     "name": "stdin",
     "output_type": "stream",
     "text": [
      "masukan kata DANIEL\n"
     ]
    },
    {
     "name": "stdout",
     "output_type": "stream",
     "text": [
      "daniel\n"
     ]
    }
   ],
   "source": [
    "kata = input(\"masukan kata\")\n",
    "kata_kecil = kata.lower()\n",
    "print(kata_kecil)"
   ]
  },
  {
   "cell_type": "code",
   "execution_count": 37,
   "id": "5f5ab41e-ced0-42fc-8fb2-6bb07a8098d8",
   "metadata": {},
   "outputs": [
    {
     "name": "stdout",
     "output_type": "stream",
     "text": [
      "['pada', 'hari', 'minggu', 'kuturut', 'ayah', 'ke', 'kota']\n"
     ]
    }
   ],
   "source": [
    "text = 'pada hari minggu kuturut ayah ke kota'\n",
    "print(text.split())\n",
    "\n"
   ]
  },
  {
   "cell_type": "code",
   "execution_count": 39,
   "id": "e9cb61a2-484a-4cec-9b5a-b44082db20d1",
   "metadata": {},
   "outputs": [
    {
     "name": "stdout",
     "output_type": "stream",
     "text": [
      "Tertiwi-tiwi\n"
     ]
    }
   ],
   "source": [
    "x = \"Tertawa-tawa\"\n",
    "print(x.replace(\"a\",\"i\"))\n"
   ]
  },
  {
   "cell_type": "code",
   "execution_count": 41,
   "id": "3af8b55b-a39f-4ba1-a62a-a12418817d3e",
   "metadata": {},
   "outputs": [
    {
     "name": "stdout",
     "output_type": "stream",
     "text": [
      "Hello, World!\n"
     ]
    }
   ],
   "source": [
    "print(\"Hello, World!\")  \n"
   ]
  },
  {
   "cell_type": "code",
   "execution_count": 43,
   "id": "348675e1-6274-4829-ac3c-3652927eaf26",
   "metadata": {},
   "outputs": [
    {
     "name": "stdin",
     "output_type": "stream",
     "text": [
      "Masukkan sebuah kalimat:  dalam perjalan kali ini kita akan ke kota malang\n"
     ]
    },
    {
     "name": "stdout",
     "output_type": "stream",
     "text": [
      "Bagian yang diambil dari string: alam\n"
     ]
    }
   ],
   "source": [
    "# Menginput string dari pengguna  \n",
    "kalimat = input(\"Masukkan sebuah kalimat: \")  \n",
    "\n",
    "# Menggunakan slicing untuk mengambil bagian tertentu  \n",
    "bagian = kalimat[1:5]  # Mengambil karakter dari indeks 1 sampai 4 (indeks 5 tidak termasuk)  \n",
    "\n",
    "print(\"Bagian yang diambil dari string:\", bagian)  "
   ]
  }
 ],
 "metadata": {
  "kernelspec": {
   "display_name": "Python [conda env:MyENVIRONMENT]",
   "language": "python",
   "name": "conda-env-MyENVIRONMENT-py"
  },
  "language_info": {
   "codemirror_mode": {
    "name": "ipython",
    "version": 3
   },
   "file_extension": ".py",
   "mimetype": "text/x-python",
   "name": "python",
   "nbconvert_exporter": "python",
   "pygments_lexer": "ipython3",
   "version": "3.12.9"
  }
 },
 "nbformat": 4,
 "nbformat_minor": 5
}
