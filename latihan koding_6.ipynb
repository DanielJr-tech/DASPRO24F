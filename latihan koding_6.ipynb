{
 "cells": [
  {
   "cell_type": "code",
   "execution_count": 36,
   "id": "afca07ae-63da-4a0d-90b5-88c319619339",
   "metadata": {},
   "outputs": [
    {
     "name": "stdin",
     "output_type": "stream",
     "text": [
      "Masukan Umur Anda: 60\n"
     ]
    },
    {
     "name": "stdout",
     "output_type": "stream",
     "text": [
      "Kategori: Lansia\n"
     ]
    }
   ],
   "source": [
    "usia = int(input('Masukan Umur Anda:'))\n",
    "if usia >=0:\n",
    "    if usia <=12:\n",
    "        print(\"Kategori: Anak\")\n",
    "    elif usia <=17:\n",
    "        print(\"Kategori: Remaja\")\n",
    "    elif usia <=59:\n",
    "        print(\"Kategori: Dewasa\")\n",
    "    else :\n",
    "        print(\"Kategori: Lansia\")\n",
    "else :\n",
    "    print(\"Umur tidak valid:\")"
   ]
  },
  {
   "cell_type": "code",
   "execution_count": 60,
   "id": "fe556862-9cb1-48bf-abb8-daa617e70839",
   "metadata": {},
   "outputs": [
    {
     "name": "stdin",
     "output_type": "stream",
     "text": [
      "Isikan Umur Tiket 1 12\n",
      "Isikan Umur Tiket 2 23\n",
      "Isikan Umur Tiket 3 54\n"
     ]
    },
    {
     "name": "stdout",
     "output_type": "stream",
     "text": [
      "RP.10.000\n",
      "Rp.25.000\n",
      "Rp.25.000\n",
      " total_biaya:60000\n"
     ]
    }
   ],
   "source": [
    "tiket1 = int(input(\"Isikan Umur Tiket 1\"))\n",
    "tiket3 = int(input(\"Isikan Umur Tiket 2\"))\n",
    "tiket2 = int(input(\"Isikan Umur Tiket 3\"))\n",
    "\n",
    "total_biaya = 0\n",
    "if tiket1 <13:\n",
    "    print(\"RP.10.000\")\n",
    "    total_biaya = total_biaya + 10000\n",
    "elif tiket1 <18:\n",
    "    print(\"Rp.15.000\")\n",
    "    total_biaya = total_biaya + 15000\n",
    "elif tiket1 <60:\n",
    "    print(\"Rp.25.000\")\n",
    "    total_biaya = total_biaya + 25000\n",
    "else:\n",
    "    (\"Tiket 1 : Gratis\")\n",
    "######################################\n",
    "if tiket2 <13:\n",
    "    print(\"RP.10.000\")\n",
    "    total_biaya = total_biaya + 10000\n",
    "elif tiket2 <18:\n",
    "    print(\"Rp.15.000\")\n",
    "    total_biaya = total_biaya + 15000\n",
    "elif tiket2 <60:\n",
    "    print(\"Rp.25.000\")\n",
    "    total_biaya = total_biaya + 25000\n",
    "else:\n",
    "    (\"Tiket 2 : Gratis\")\n",
    "######################################\n",
    "if tiket3 <13:\n",
    "    print(\"RP.10.000\")\n",
    "    total_biaya = total_biaya + 10000\n",
    "elif tiket3 <18:\n",
    "    print(\"Rp.15.000\")\n",
    "    total_biaya = total_biaya + 15000\n",
    "elif tiket3 <60:\n",
    "    print(\"Rp.25.000\")\n",
    "    total_biaya = total_biaya + 25000\n",
    "else:\n",
    "    (\"Tiket 3 : Gratis\")\n",
    "print(f\" total_biaya:{total_biaya}\")"
   ]
  },
  {
   "cell_type": "code",
   "execution_count": 74,
   "id": "2c5e552a-5c56-44ef-8e70-6f8bf5d01f78",
   "metadata": {},
   "outputs": [
    {
     "name": "stdin",
     "output_type": "stream",
     "text": [
      "Masukan Nilai Raport 100\n",
      "Isikan Penghasilan Ortu 4500000\n"
     ]
    },
    {
     "name": "stdout",
     "output_type": "stream",
     "text": [
      "Mendapatkan Beasiswa Penuh\n"
     ]
    }
   ],
   "source": [
    "NilaiRaport = int(input(\"Masukan Nilai Raport\"))\n",
    "penghasilan_ortu = int(input(\"Isikan Penghasilan Ortu\"))\n",
    "\n",
    "if NilaiRaport >= 90 and penghasilan_ortu <5000000:\n",
    "    print(\"Mendapatkan Beasiswa Penuh\")\n",
    "elif NilaiRaport >= 85 and penghasilan_ortu <8000000:\n",
    "    print(\"Mendapatkan Beasiswa 50%\")\n",
    "else:\n",
    "    print(\"Tidak Mendaptkan Beasiswa\")"
   ]
  },
  {
   "cell_type": "code",
   "execution_count": 108,
   "id": "4858c4a3-f24c-4d24-963c-2b5cefb62460",
   "metadata": {},
   "outputs": [
    {
     "name": "stdin",
     "output_type": "stream",
     "text": [
      "Isikan motor/mobil: motor\n",
      "Jam Masuk 2\n",
      "Jam Keluar 12\n"
     ]
    },
    {
     "name": "stdout",
     "output_type": "stream",
     "text": [
      "Tarif motor : 2000\n",
      "Lama Parkir: 10\n",
      "Tambahan Biaya Lebih 5 Jam: 10000\n",
      "Total Tarif Parkir: 30000\n"
     ]
    }
   ],
   "source": [
    "jenis_kendaraan = input(\"Isikan motor/mobil:\")\n",
    "jam_masuk = int(input(\"Jam Masuk\"))\n",
    "jam_keluar = int(input(\"Jam Keluar\"))\n",
    "\n",
    "tarif_perjam = 0\n",
    "if jenis_kendaraan == \"motor\":\n",
    "    tarif_perjam = 2000\n",
    "elif jenis_kendaraan == \"mobil\":\n",
    "    tarif_perjam = 5000\n",
    "else:\n",
    "    print(\"Tidak menerima selain mobil atau motor\")\n",
    "\n",
    "if jam_masuk >= jam_keluar:\n",
    "    print(\"Input Jam Masuk/Jam Keluar\")\n",
    "else:\n",
    "    total_tarif = (jam_keluar - jam_masuk) * tarif_perjam\n",
    "\n",
    "print(f\"Tarif {jenis_kendaraan} : {tarif_perjam}\")\n",
    "print(f\"Lama Parkir: {jam_keluar-jam_masuk}\")\n",
    "\n",
    "if jam_keluar - jam_masuk >= 5:\n",
    "    total_tarif += 10000\n",
    "print(\"Tambahan Biaya Lebih 5 Jam: 10000\")\n",
    "print(f\"Total Tarif Parkir: {total_tarif}\")"
   ]
  },
  {
   "cell_type": "code",
   "execution_count": 106,
   "id": "3ce63910-64a0-44c4-ba7f-28d1901bc477",
   "metadata": {},
   "outputs": [
    {
     "name": "stdin",
     "output_type": "stream",
     "text": [
      "Nomor Punggung:  21\n"
     ]
    },
    {
     "name": "stdout",
     "output_type": "stream",
     "text": [
      "Kamu mempunyai pilihan posisi: Defender\n"
     ]
    }
   ],
   "source": [
    "nomor_punggung = int(input(\"Nomor Punggung: \"))\n",
    "posisi = \"\"\n",
    "if nomor_punggung % 2 == 0:\n",
    "    posisi += \"Target Attacker,\"\n",
    "    if nomor_punggung >= 50 and nomor_punggung <=100:\n",
    "        posisi += \"Berhak Dipilih Menjadi Capten,\"\n",
    "else:\n",
    "    posisi += \"Defender\"\n",
    "    if nomor_punggung > 90:\n",
    "        posisi += \"Playmaker,\"\n",
    "    if nomor_punggung % 3 == 0 and nomor_punggung % 5 == 0:\n",
    "        posisi += \"Keeper\"\n",
    "print(f\"Kamu mempunyai pilihan posisi: {posisi}\")"
   ]
  }
 ],
 "metadata": {
  "kernelspec": {
   "display_name": "Python [conda env:base] *",
   "language": "python",
   "name": "conda-base-py"
  },
  "language_info": {
   "codemirror_mode": {
    "name": "ipython",
    "version": 3
   },
   "file_extension": ".py",
   "mimetype": "text/x-python",
   "name": "python",
   "nbconvert_exporter": "python",
   "pygments_lexer": "ipython3",
   "version": "3.12.9"
  }
 },
 "nbformat": 4,
 "nbformat_minor": 5
}
