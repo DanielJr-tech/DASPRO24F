{
 "cells": [
  {
   "cell_type": "code",
   "execution_count": 21,
   "id": "f9cf53a9-da05-40b5-9206-7e5d330058dd",
   "metadata": {},
   "outputs": [],
   "source": [
    "datalist = {}"
   ]
  },
  {
   "cell_type": "code",
   "execution_count": 22,
   "id": "6197c28d-208c-4d0d-adfd-6c17ee1358c3",
   "metadata": {},
   "outputs": [],
   "source": [
    "def addStudent():\n",
    "    nim_mahasiswa = int(input(\"Masukan NIM Mahasiswa\"))\n",
    "    nama_mahasiswa = input(\"Masukan Nama Mahasiswa\")\n",
    "    jurusan_mahasiswa = input(\"Masukan Jurusan Mahasiswa\")\n",
    "    IPK_mahasiswa = float(input(\"Masukan IPK Mahasiswa\"))\n",
    "    temp = []\n",
    "    temp.append(nama_mahasiswa)\n",
    "    temp.append(jurusan_mahasiswa)\n",
    "    temp.append(IPK_mahasiswa)\n",
    "    temp = tuple(temp)\n",
    "    datalist[nim_mahasiswa] = temp"
   ]
  },
  {
   "cell_type": "code",
   "execution_count": 23,
   "id": "423647c5-7c7d-4b73-929a-9ec702d79ee2",
   "metadata": {},
   "outputs": [],
   "source": [
    "def readStudent():\n",
    "    print(datalist)"
   ]
  },
  {
   "cell_type": "code",
   "execution_count": 24,
   "id": "f5b23a52-2302-4786-a607-1800ec56523d",
   "metadata": {},
   "outputs": [],
   "source": [
    "def findStudent():\n",
    "    nim_mahasiswa = int(input(\"Masukan NIM Mahasiswa yang mau dicari:\"))\n",
    "    if nim_mahasiswa in datalist:\n",
    "        print(datalist[nim_mahasiswa])\n",
    "    else:\n",
    "        print(\"Mahasiswa Tidak Dapat Ditemukan\")"
   ]
  },
  {
   "cell_type": "code",
   "execution_count": 25,
   "id": "4dd70b65-bb3c-4bd4-8a3a-5ec2468adb55",
   "metadata": {},
   "outputs": [],
   "source": [
    "def updateIPKStudent():\n",
    "    nim_mahasiswa = int(input(\"Masukan NIM Mahasiswa Yang Akan Dicari IPK:\"))\n",
    "    update_IPK = float(input(\"Masukan IPK Yang Terbaru:\"))\n",
    "    temp = list(datalist[nim_mahasiswa])\n",
    "    temp[2] = update_IPK\n",
    "    temp = tuple(temp)\n",
    "    datalist[nim_mahasiswa] = temp"
   ]
  },
  {
   "cell_type": "code",
   "execution_count": 26,
   "id": "f5f30075-37e2-4426-b452-f28111434059",
   "metadata": {},
   "outputs": [],
   "source": [
    "def delStudent():\n",
    "    nim_mahasiswa = int(input(\"Masukan NIM Mahasiswa Yang Akan Dihapus:\"))\n",
    "    del datalist[nim_mahasiswa]"
   ]
  },
  {
   "cell_type": "code",
   "execution_count": 27,
   "id": "8f697624-5879-4b08-9c39-cc5701ad2ed9",
   "metadata": {},
   "outputs": [
    {
     "name": "stdout",
     "output_type": "stream",
     "text": [
      "---Menu--- \n",
      "\n",
      "1.Tambahkan Mahasiswa \n",
      "2.Tampilkan Seluruh Mahasiswa \n",
      "3.Cari Mahasiswa \n",
      "4.Update IPK Mahasiswa \n",
      "5.Hapus Mahasiswa \n",
      "6.Keluar\n"
     ]
    },
    {
     "name": "stdin",
     "output_type": "stream",
     "text": [
      " 1\n",
      "Masukan NIM Mahasiswa 3234\n",
      "Masukan Nama Mahasiswa ras\n",
      "Masukan Jurusan Mahasiswa fsaf\n",
      "Masukan IPK Mahasiswa 4.00\n"
     ]
    },
    {
     "name": "stdout",
     "output_type": "stream",
     "text": [
      "---Menu--- \n",
      "\n",
      "1.Tambahkan Mahasiswa \n",
      "2.Tampilkan Seluruh Mahasiswa \n",
      "3.Cari Mahasiswa \n",
      "4.Update IPK Mahasiswa \n",
      "5.Hapus Mahasiswa \n",
      "6.Keluar\n"
     ]
    },
    {
     "name": "stdin",
     "output_type": "stream",
     "text": [
      " 2\n"
     ]
    },
    {
     "name": "stdout",
     "output_type": "stream",
     "text": [
      "{3234: ('ras', 'fsaf', 4.0)}\n",
      "---Menu--- \n",
      "\n",
      "1.Tambahkan Mahasiswa \n",
      "2.Tampilkan Seluruh Mahasiswa \n",
      "3.Cari Mahasiswa \n",
      "4.Update IPK Mahasiswa \n",
      "5.Hapus Mahasiswa \n",
      "6.Keluar\n"
     ]
    },
    {
     "name": "stdin",
     "output_type": "stream",
     "text": [
      " 3\n",
      "Masukan NIM Mahasiswa yang mau dicari: 3234\n"
     ]
    },
    {
     "name": "stdout",
     "output_type": "stream",
     "text": [
      "('ras', 'fsaf', 4.0)\n",
      "---Menu--- \n",
      "\n",
      "1.Tambahkan Mahasiswa \n",
      "2.Tampilkan Seluruh Mahasiswa \n",
      "3.Cari Mahasiswa \n",
      "4.Update IPK Mahasiswa \n",
      "5.Hapus Mahasiswa \n",
      "6.Keluar\n"
     ]
    },
    {
     "name": "stdin",
     "output_type": "stream",
     "text": [
      " 4\n",
      "Masukan NIM Mahasiswa Yang Akan Dicari IPK: 3234\n",
      "Masukan IPK Yang Terbaru: 3.50\n"
     ]
    },
    {
     "name": "stdout",
     "output_type": "stream",
     "text": [
      "---Menu--- \n",
      "\n",
      "1.Tambahkan Mahasiswa \n",
      "2.Tampilkan Seluruh Mahasiswa \n",
      "3.Cari Mahasiswa \n",
      "4.Update IPK Mahasiswa \n",
      "5.Hapus Mahasiswa \n",
      "6.Keluar\n"
     ]
    },
    {
     "name": "stdin",
     "output_type": "stream",
     "text": [
      " 5\n",
      "Masukan NIM Mahasiswa Yang Akan Dihapus: 3234\n"
     ]
    },
    {
     "name": "stdout",
     "output_type": "stream",
     "text": [
      "---Menu--- \n",
      "\n",
      "1.Tambahkan Mahasiswa \n",
      "2.Tampilkan Seluruh Mahasiswa \n",
      "3.Cari Mahasiswa \n",
      "4.Update IPK Mahasiswa \n",
      "5.Hapus Mahasiswa \n",
      "6.Keluar\n"
     ]
    },
    {
     "name": "stdin",
     "output_type": "stream",
     "text": [
      " 6\n"
     ]
    }
   ],
   "source": [
    "i = True\n",
    "while i is True:\n",
    "    print(\"---Menu--- \\n\\n1.Tambahkan Mahasiswa \\n2.Tampilkan Seluruh Mahasiswa \\n3.Cari Mahasiswa \\n4.Update IPK Mahasiswa \\n5.Hapus Mahasiswa \\n6.Keluar\")\n",
    "    pilihan = int(input())\n",
    "    \n",
    "    if pilihan == 1:\n",
    "        addStudent()\n",
    "    \n",
    "    elif pilihan == 2:\n",
    "        readStudent()\n",
    "    \n",
    "    elif pilihan == 3:\n",
    "        findStudent()\n",
    "    \n",
    "    elif pilihan == 4:\n",
    "        updateIPKStudent()\n",
    "    \n",
    "    elif pilihan == 5:\n",
    "        delStudent()\n",
    "    \n",
    "    elif pilihan == 6:\n",
    "        i = False\n",
    "    else:\n",
    "        print(\"Masukan angka yang ada di menu (1-6)\")"
   ]
  }
 ],
 "metadata": {
  "kernelspec": {
   "display_name": "Python [conda env:base] *",
   "language": "python",
   "name": "conda-base-py"
  },
  "language_info": {
   "codemirror_mode": {
    "name": "ipython",
    "version": 3
   },
   "file_extension": ".py",
   "mimetype": "text/x-python",
   "name": "python",
   "nbconvert_exporter": "python",
   "pygments_lexer": "ipython3",
   "version": "3.12.9"
  }
 },
 "nbformat": 4,
 "nbformat_minor": 5
}
