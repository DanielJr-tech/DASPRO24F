{
 "cells": [
  {
   "cell_type": "markdown",
   "id": "6b031a1c-f93b-494b-9296-2f7b81cd2c3a",
   "metadata": {},
   "source": [
    "<b>Buatlah data dengan kriteria:</b>\n",
    "<ol>\n",
    "    <li>Minimal Terdiri dari 10.000 baris</li>\n",
    "    <li>Terdiri dari multi kriteria</li>\n",
    "    <li>Minimal Terdapat 10 Kolom</li>\n",
    "    <li>Jenis Data bebas</li>\n",
    "    <li>Tampilkan informasi dan karakteristik data menggunakan Numpy dan Pandas</li>\n",
    "</ol>"
   ]
  },
  {
   "cell_type": "code",
   "execution_count": 150,
   "id": "87fa84f3-e2f6-4aa8-ad9e-ceb536c7d268",
   "metadata": {},
   "outputs": [
    {
     "data": {
      "text/plain": [
       "<bound method NDFrame.head of       Ages Gender Pendidikan     Hoby        Jobs    Pets   Addresess  \\\n",
       "0       36      L        SMK  Ngoding        Guru   Otter      Cisaat   \n",
       "1       31      L        SMA  Membaca  Pustakawan  Kucing      Cisaat   \n",
       "2       43      L         S1      GYM     Trainer  Anjing      Cisaat   \n",
       "3       24      P         S2  Membaca     Trainer   Otter    Sukabumi   \n",
       "4       60      P         S1  Membaca  Pustakawan   Otter    Sukabumi   \n",
       "...    ...    ...        ...      ...         ...     ...         ...   \n",
       "9995    18      P        SMK  Membaca        Guru  Kucing      Cisaat   \n",
       "9996    50      L         S1      GYM     Trainer  Anjing    Sukabumi   \n",
       "9997    26      P         S1  Membaca     Trainer  Kucing  Nyalindung   \n",
       "9998    34      L         S2      GYM     Trainer  Kucing  Nyalindung   \n",
       "9999    30      P        SMK      GYM  Pustakawan   Tupai    Sukabumi   \n",
       "\n",
       "            Fear  Dream      Fav_food  \n",
       "0           Laut  Hitam  Risol Charel  \n",
       "1     Ketinggian  Artis       Batagor  \n",
       "2          Gelap  Artis         Cimol  \n",
       "3           Laut  Artis   Nasi Padang  \n",
       "4     Ketinggian  Artis  Risol Charel  \n",
       "...          ...    ...           ...  \n",
       "9995       Gelap  Hitam   Nasi Padang  \n",
       "9996       Gelap  Sehat   Nasi Padang  \n",
       "9997        Laut  Sehat  Risol Charel  \n",
       "9998  Ketinggian  Hitam         Cimol  \n",
       "9999       Gelap  Artis         Cimol  \n",
       "\n",
       "[10000 rows x 10 columns]>"
      ]
     },
     "execution_count": 150,
     "metadata": {},
     "output_type": "execute_result"
    }
   ],
   "source": [
    "import numpy as np\n",
    "import pandas as pd\n",
    "\n",
    "n_data = 10000\n",
    "\n",
    "Ages = np.random.randint(18,61, size=n_data)\n",
    "Gender = np.random.choice(['L', 'P'], size=n_data)\n",
    "Pendidikan = np.random.choice(['SMA','SMK','S1', 'S2'], size=n_data)\n",
    "Hoby = np.random.choice(['Membaca', 'GYM','Ngoding',], size=n_data)\n",
    "Jobs = np.random.choice(['Guru', 'Pustakawan', 'Trainer'], size=n_data)\n",
    "Pets = np.random.choice(['Tupai', 'Otter', 'Kucing', 'Anjing'], size=n_data)\n",
    "Addresess = np.random.choice(['Sukabumi', 'Cisaat', 'Nyalindung'], size=n_data)\n",
    "Fear = np.random.choice(['Ketinggian', 'Gelap', 'Laut'], size=n_data)\n",
    "Dream = np.random.choice(['Sehat', 'Kaya Raya', 'Hitam', 'Artis'], size=n_data)\n",
    "Fav_food = np.random.choice(['Seblak', 'Nasi Padang', 'Cimol', 'Batagor', 'Risol Charel'], size=n_data)\n",
    "\n",
    "df = pd.DataFrame({\n",
    "    'Ages' : Ages,\n",
    "    'Gender' : Gender,\n",
    "    'Pendidikan' : Pendidikan,\n",
    "    'Hoby' : Hoby,\n",
    "    'Jobs' : Jobs, \n",
    "    'Pets' : Pets,\n",
    "    'Addresess' : Addresess,\n",
    "    'Fear' : Fear,\n",
    "    'Dream' : Dream,\n",
    "    'Fav_food' : Fav_food\n",
    "})\n",
    "\n",
    "df.to_csv('Generate data tugas 9.csv', index=False)\n",
    "df.head #mengetahui 5 baris pertama dari isi data frame\n",
    "#df.info"
   ]
  }
 ],
 "metadata": {
  "kernelspec": {
   "display_name": "Python [conda env:base] *",
   "language": "python",
   "name": "conda-base-py"
  },
  "language_info": {
   "codemirror_mode": {
    "name": "ipython",
    "version": 3
   },
   "file_extension": ".py",
   "mimetype": "text/x-python",
   "name": "python",
   "nbconvert_exporter": "python",
   "pygments_lexer": "ipython3",
   "version": "3.12.9"
  }
 },
 "nbformat": 4,
 "nbformat_minor": 5
}
