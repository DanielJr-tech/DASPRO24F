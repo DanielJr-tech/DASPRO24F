{
 "cells": [
  {
   "cell_type": "markdown",
   "id": "ccf6178e-a90b-4614-abb1-ff9e427b8a6c",
   "metadata": {},
   "source": [
    "<h1>Operator Aritmatika</h1>"
   ]
  },
  {
   "cell_type": "code",
   "execution_count": 1,
   "id": "23065217-a350-4bbb-ac48-71c59cdbdcd6",
   "metadata": {},
   "outputs": [
    {
     "name": "stdin",
     "output_type": "stream",
     "text": [
      "Isikan Nilai x: 50\n",
      "Isikan Nilai y: 3\n"
     ]
    },
    {
     "name": "stdout",
     "output_type": "stream",
     "text": [
      "Hasil Penjumlahan 50 + 3 = 53\n",
      "Hasil Kali 50 * 3 = 150\n",
      "Hasil Kurang 50 - 3 = 47\n",
      "Hasil Kali 50 * 3 = 150\n",
      "Hasil Bagi 50 / 3 = 16.666666666666668\n",
      "Hasil Modulus 50 % 3 = 2\n",
      "Hasil Pangkat 50 ** 3 = 125000\n",
      "Hasil Diverensia 50 // 3 = 16\n"
     ]
    }
   ],
   "source": [
    "x = input(\"Isikan Nilai x:\")\n",
    "y = input(\"Isikan Nilai y:\")\n",
    "x = int(x)\n",
    "y = int(y)\n",
    "hasiltambah = x + y\n",
    "hasilkali = x * y\n",
    "hasilkurang = x - y\n",
    "hasilbagi = x / y\n",
    "hasilmod = x % y\n",
    "hasilpangkat = x ** y\n",
    "hasildiverensia = x // y\n",
    "\n",
    "print(\"Hasil Penjumlahan\",x,\"+\",y,\"=\",hasiltambah)\n",
    "print(\"Hasil Kali\",x,\"*\",y,\"=\",hasilkali)\n",
    "print(\"Hasil Kurang\",x,\"-\",y,\"=\",hasilkurang)\n",
    "print(\"Hasil Kali\",x,\"*\",y,\"=\",hasilkali)\n",
    "print(\"Hasil Bagi\",x,\"/\",y,\"=\",hasilbagi)\n",
    "print(\"Hasil Modulus\",x,\"%\",y,\"=\",hasilmod)\n",
    "print(\"Hasil Pangkat\",x,\"**\",y,\"=\",hasilpangkat)\n",
    "print(\"Hasil Diverensia\",x,\"//\",y,\"=\",hasildiverensia)"
   ]
  },
  {
   "cell_type": "markdown",
   "id": "5e0a5ec5-0e4f-4ea7-8b9c-a84eb2a506bd",
   "metadata": {},
   "source": [
    "<h1>Operator Penugasan</h1>"
   ]
  },
  {
   "cell_type": "code",
   "execution_count": 14,
   "id": "e0a0e65c-4261-42e2-a6f7-b3346744a33e",
   "metadata": {},
   "outputs": [
    {
     "name": "stdin",
     "output_type": "stream",
     "text": [
      "Isikan Nilai Awal: 5\n"
     ]
    },
    {
     "name": "stdout",
     "output_type": "stream",
     "text": [
      "Setelah ditambah dengan 3= 5\n",
      "Setelah dikurangi dengan 5= 8\n",
      "Setelah kali dengan 3= 3\n",
      "Setelah dibagi dengan 3= 9\n",
      "Proses terakhir dibagi denngan 2= 4.5\n"
     ]
    }
   ],
   "source": [
    "nilaiAwal = int(input(\"Isikan Nilai Awal:\"))\n",
    "\n",
    "print(\"Setelah ditambah dengan 3=\",nilaiAwal)\n",
    "nilaiAwal+=3\n",
    "\n",
    "print(\"Setelah dikurangi dengan 5=\",nilaiAwal)\n",
    "nilaiAwal-=5\n",
    "\n",
    "print(\"Setelah kali dengan 3=\",nilaiAwal)\n",
    "nilaiAwal*=3\n",
    "\n",
    "print(\"Setelah dibagi dengan 3=\",nilaiAwal)\n",
    "nilaiAwal/=2\n",
    "\n",
    "print(\"Proses terakhir dibagi denngan 2=\",nilaiAwal)"
   ]
  },
  {
   "cell_type": "markdown",
   "id": "ff59ceb5-0bbc-4a85-8f2f-654db8b3080f",
   "metadata": {},
   "source": [
    "<h1>Operator Pembandingan</h1>"
   ]
  },
  {
   "cell_type": "code",
   "execution_count": 12,
   "id": "50049ce5-9ad1-4ff5-902e-495ee88ee30e",
   "metadata": {},
   "outputs": [
    {
     "name": "stdin",
     "output_type": "stream",
     "text": [
      "Isikan Nilai fVal : 8\n",
      "Isikan Nilai sVal : 23879\n"
     ]
    },
    {
     "name": "stdout",
     "output_type": "stream",
     "text": [
      "8 = 23879 False\n",
      "8 != 23879 True\n",
      "8 > 23879 False\n",
      "8 < 23879 True\n",
      "8 >= 23879 False\n",
      "8 <= 23879 True\n"
     ]
    }
   ],
   "source": [
    "fVal = int(input(\"Isikan Nilai fVal :\"))\n",
    "sVal = int(input(\"Isikan Nilai sVal :\"))\n",
    "\n",
    "print(fVal,\"=\",sVal,fVal==sVal)\n",
    "print(fVal,\"!=\",sVal,fVal!=sVal)\n",
    "print(fVal,\">\",sVal,fVal>sVal)\n",
    "print(fVal,\"<\",sVal,fVal<sVal)\n",
    "print(fVal,\">=\",sVal,fVal>=sVal)\n",
    "print(fVal,\"<=\",sVal,fVal<=sVal)\n"
   ]
  },
  {
   "cell_type": "markdown",
   "id": "10378441-b750-48d9-9ec1-afaf62b4edcc",
   "metadata": {},
   "source": [
    "<h1>Operator Logika</h1>"
   ]
  },
  {
   "cell_type": "code",
   "execution_count": 3,
   "id": "e985353d-a4e3-4c6e-8ed9-4839be5cde4c",
   "metadata": {},
   "outputs": [
    {
     "name": "stdin",
     "output_type": "stream",
     "text": [
      "Isikan Bilangan 1: 1\n",
      "Isikan Bilangan 2: 50\n"
     ]
    },
    {
     "name": "stdout",
     "output_type": "stream",
     "text": [
      "Bilangan 1: 1\n",
      "Bilangan 2: 50\n",
      "Apakah Bil. 1 mod 2 = 0 dan Bil. 2 lebih besar dari 3? False\n",
      "Apakah Bil. 1 mod 2 = 0 dan Bil. 2 lebih besar dari 3? True\n",
      "Apakah Bil. 1 mod 2 = 0 dan Bil. 2 lebih besar dari 3? False\n"
     ]
    }
   ],
   "source": [
    "num_1 = int(input(\"Isikan Bilangan 1:\"))\n",
    "num_2 = int(input(\"Isikan Bilangan 2:\"))\n",
    "\n",
    "print(\"Bilangan 1:\",num_1)\n",
    "print(\"Bilangan 2:\",num_2)\n",
    "\n",
    "print(\"Apakah Bil. 1 mod 2 = 0 dan Bil. 2 lebih besar dari 3?\",num_1 % 2 == 0 and num_2 > 3)\n",
    "print(\"Apakah Bil. 1 mod 2 = 0 dan Bil. 2 lebih besar dari 3?\",num_1 % 2 == 0 or num_2 > 3)\n",
    "print(\"Apakah Bil. 1 mod 2 = 0 dan Bil. 2 lebih besar dari 3?\",not(num_1 % 2 == 0 or num_2 > 3))"
   ]
  },
  {
   "cell_type": "markdown",
   "id": "394c7486-f85a-467f-a70f-e805b27400e1",
   "metadata": {},
   "source": [
    "<h1>Operator Identitas</h1>"
   ]
  },
  {
   "cell_type": "code",
   "execution_count": 42,
   "id": "8ec764bb-57ae-4aa4-90c6-ff2c6427de60",
   "metadata": {},
   "outputs": [
    {
     "name": "stdout",
     "output_type": "stream",
     "text": [
      "True\n",
      "False\n",
      "True\n",
      "Memory address dari val1 2597780763872\n",
      "Memory address dari val2 140712901880536\n",
      "Memory address dari val3 140712901880536\n"
     ]
    },
    {
     "name": "stderr",
     "output_type": "stream",
     "text": [
      "<>:1: SyntaxWarning: \"is\" with 'str' literal. Did you mean \"==\"?\n",
      "<>:1: SyntaxWarning: \"is\" with 'str' literal. Did you mean \"==\"?\n",
      "C:\\Users\\HP14s\\AppData\\Local\\Temp\\ipykernel_8792\\3230019129.py:1: SyntaxWarning: \"is\" with 'str' literal. Did you mean \"==\"?\n",
      "  print (\"Andi\" is \"Andi\")\n"
     ]
    }
   ],
   "source": [
    "print (\"Andi\" is \"Andi\")\n",
    "val1 = \"10\"\n",
    "val2 = 10\n",
    "val3 = val2\n",
    "print(val1 is val2)\n",
    "print(val1 is not val2)\n",
    "\n",
    "print(\"Memory address dari val1\",id(val1))\n",
    "print(\"Memory address dari val2\",id(val2))\n",
    "print(\"Memory address dari val3\",id(val3))\n"
   ]
  },
  {
   "cell_type": "markdown",
   "id": "fae46455-a78e-474d-9f6d-325289115f47",
   "metadata": {},
   "source": [
    "<h1>Operator Keanggotaan</h1>"
   ]
  },
  {
   "cell_type": "code",
   "execution_count": 47,
   "id": "c66e6285-e11e-49b7-a8b7-5251eb2e0a70",
   "metadata": {},
   "outputs": [
    {
     "name": "stdout",
     "output_type": "stream",
     "text": [
      "True\n",
      "False\n"
     ]
    }
   ],
   "source": [
    "find = (\"Daniel\")\n",
    "daftarMahasiswa = (\"Devi\", \"Desur\", \"Denia\", \"Daniel\")\n",
    "\n",
    "print(find in daftarMahasiswa)\n",
    "print(find not in daftarMahasiswa)\n"
   ]
  },
  {
   "cell_type": "markdown",
   "id": "1048b82a-6d20-4925-a3fc-2a0d6df53be2",
   "metadata": {},
   "source": [
    "<h1>Operator Bitwise</h1>"
   ]
  },
  {
   "cell_type": "code",
   "execution_count": 50,
   "id": "52a28ce4-15e7-4590-9560-bc59ddfe6d4d",
   "metadata": {},
   "outputs": [
    {
     "name": "stdin",
     "output_type": "stream",
     "text": [
      "Isikan Nilai 1: 64\n",
      "Isikan Nilai 2: 3\n"
     ]
    },
    {
     "name": "stdout",
     "output_type": "stream",
     "text": [
      "0\n",
      "67\n",
      "67\n",
      "512\n",
      "8\n"
     ]
    }
   ],
   "source": [
    "desimal1 = int(input(\"Isikan Nilai 1:\"))\n",
    "desimal2 = int(input(\"Isikan Nilai 2:\"))\n",
    "\n",
    "print(desimal1 & desimal2)\n",
    "print(desimal1 | desimal2)\n",
    "print(desimal1 ^ desimal2)\n",
    "print(desimal1 << desimal2)\n",
    "print(desimal1 >> desimal2)\n"
   ]
  }
 ],
 "metadata": {
  "kernelspec": {
   "display_name": "Python [conda env:MyENVIRONMENT]",
   "language": "python",
   "name": "conda-env-MyENVIRONMENT-py"
  },
  "language_info": {
   "codemirror_mode": {
    "name": "ipython",
    "version": 3
   },
   "file_extension": ".py",
   "mimetype": "text/x-python",
   "name": "python",
   "nbconvert_exporter": "python",
   "pygments_lexer": "ipython3",
   "version": "3.12.9"
  }
 },
 "nbformat": 4,
 "nbformat_minor": 5
}
