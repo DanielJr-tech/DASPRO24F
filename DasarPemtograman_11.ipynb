{
 "cells": [
  {
   "cell_type": "code",
   "execution_count": 5,
   "id": "8fbdc6c7-5769-454c-869d-fb83a4302ca1",
   "metadata": {},
   "outputs": [
    {
     "name": "stdin",
     "output_type": "stream",
     "text": [
      " halo dunia!\n"
     ]
    },
    {
     "name": "stdout",
     "output_type": "stream",
     "text": [
      "olah !ainud "
     ]
    }
   ],
   "source": [
    "def reversedWord(word):\n",
    "    word = word.split(\" \")\n",
    "    for i in range(len(word)):\n",
    "        rword = reversed(word[i])\n",
    "        for j in rword:\n",
    "            print(j, end=\"\")\n",
    "        print(\"\", end=\" \")\n",
    "word = input()\n",
    "reversedWord(word)"
   ]
  },
  {
   "cell_type": "code",
   "execution_count": 17,
   "id": "3fe7743f-fdf0-46b0-a962-f98550c8d724",
   "metadata": {},
   "outputs": [
    {
     "name": "stdin",
     "output_type": "stream",
     "text": [
      "Masukan kalimat: ayam geprek sambal matah goreng\n",
      "Ada berapa banyak kata dalam kalimat: 2 5 1 4 3\n"
     ]
    },
    {
     "name": "stdout",
     "output_type": "stream",
     "text": [
      "geprek goreng ayam matah sambal "
     ]
    }
   ],
   "source": [
    "def basedOnOrder(word, number):\n",
    "    word = word.split(\" \")\n",
    "    number = number.split(\" \")\n",
    "    number = list(map(int, number))\n",
    "    for i in number:\n",
    "        print(word[i-1], end=\" \")\n",
    "sentence = input(\"Masukan kalimat:\")\n",
    "indeks = input(\"Ada berapa banyak kata dalam kalimat:\")\n",
    "basedOnOrder(sentence, indeks)"
   ]
  },
  {
   "cell_type": "code",
   "execution_count": 29,
   "id": "eb51312c-0e66-4f25-816d-4c73291e9143",
   "metadata": {},
   "outputs": [
    {
     "name": "stdin",
     "output_type": "stream",
     "text": [
      "Masukan Kalimat Anda: ice matcha latte \n",
      "Masukan Pilihan (1-2) 2\n"
     ]
    },
    {
     "name": "stdout",
     "output_type": "stream",
     "text": [
      "1c3 m4tch4 l4tt3 \n"
     ]
    }
   ],
   "source": [
    "def changeVokal(word, choose):\n",
    "    word = list(word)\n",
    "    if choose == 1:\n",
    "        for i in range(len(word)):\n",
    "            if word[i] == \"A\":\n",
    "                word[i] = \"4\"\n",
    "            elif word[i] == \"I\":\n",
    "                word[i] = \"1\"\n",
    "            elif word[i] == \"U\":\n",
    "                word[i] = \"|_|\"\n",
    "            elif word[i] == \"E\":\n",
    "                word[i] = \"3\"\n",
    "            elif word[i] == \"O\":\n",
    "                word[i] = \"0\"\n",
    "    elif choose == 2:\n",
    "        for i in range(len(word)):\n",
    "            if word[i] == \"a\":\n",
    "                word[i] = \"4\"\n",
    "            elif word[i] == \"i\":\n",
    "                word[i] = \"1\"\n",
    "            elif word[i] == \"u\":\n",
    "                word[i] = \"|_|\"\n",
    "            elif word[i] == \"e\":\n",
    "                word[i] = \"3\"\n",
    "            elif word[i] == \"o\":\n",
    "                word[i] = \"0\"\n",
    "    word = \"\".join(word)\n",
    "    print(word)\n",
    "word = input(\"Masukan Kalimat Anda:\")\n",
    "choose = int(input(\"Masukan Pilihan (1-2)\"))\n",
    "changeVokal(word,choose)"
   ]
  },
  {
   "cell_type": "code",
   "execution_count": null,
   "id": "e1ac1e9e-c2aa-42e9-8f9b-95e943baccc4",
   "metadata": {},
   "outputs": [],
   "source": []
  }
 ],
 "metadata": {
  "kernelspec": {
   "display_name": "Python [conda env:base] *",
   "language": "python",
   "name": "conda-base-py"
  },
  "language_info": {
   "codemirror_mode": {
    "name": "ipython",
    "version": 3
   },
   "file_extension": ".py",
   "mimetype": "text/x-python",
   "name": "python",
   "nbconvert_exporter": "python",
   "pygments_lexer": "ipython3",
   "version": "3.12.9"
  }
 },
 "nbformat": 4,
 "nbformat_minor": 5
}
