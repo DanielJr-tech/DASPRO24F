{
 "cells": [
  {
   "cell_type": "markdown",
   "id": "f8a915e5",
   "metadata": {},
   "source": [
    "<img src=\"https://banner2.cleanpng.com/20181128/cbr/kisspng-python-programming-basics-for-absolute-beginners-michigan-python-user-group-5-jul-2-18-1713916787253.webp\" width=\"200\">\n",
    "</center><br>\n",
    "Jenis cell di <b>Jupiter Note Book</b> ada 2\n",
    "<ol>\n",
    "    <li>Mark down (M)</li>\n",
    "    <li>Code (Y)</li>\n",
    "</ol>\n",
    "<hr>\n"
   ]
  },
  {
   "cell_type": "markdown",
   "id": "ecc6e27e",
   "metadata": {},
   "source": [
    "Cara menambah cell ada 2:\n",
    "<ul>\n",
    "    <li> Above (A)</li>\n",
    "    <li> Below (B)</li>\n",
    "</ul>\n",
    "\n",
    "<table>\n",
    "    <tr>\n",
    "        <th>Perintah</th>\n",
    "        <th>Keterangan</th>\n",
    "    </tr>\n",
    "    <tr>\n",
    "        <td>ctrl + enter</td>\n",
    "        <td>Running dan fokus di cell</td>\n",
    "    </tr>\n",
    "    <tr>\n",
    "        <td>Shift + enter</td>\n",
    "        <td>Running dan fokus di cell</td>\n",
    "    </tr>\n",
    "</table>"
   ]
  },
  {
   "cell_type": "code",
   "execution_count": 13,
   "id": "a8175c9f",
   "metadata": {},
   "outputs": [
    {
     "name": "stdout",
     "output_type": "stream",
     "text": [
      "PYTHPON IS VERY EASY\n",
      "15\n",
      "DEKLARASIKAN VARIABEL 'A'\n"
     ]
    },
    {
     "data": {
      "text/plain": [
       "94056893465902"
      ]
     },
     "execution_count": 13,
     "metadata": {},
     "output_type": "execute_result"
    }
   ],
   "source": [
    "print(\"PYTHPON IS VERY EASY\")\n",
    "data = 5\n",
    "data2 = 10\n",
    "print(data + int(data2))\n",
    "print(\"DEKLARASIKAN VARIABEL 'A'\")\n",
    "data2\n",
    "data + 8364783254\n",
    "data2 + 94056893465892"
   ]
  },
  {
   "cell_type": "markdown",
   "id": "eaec762b",
   "metadata": {},
   "source": [
    "<img src=\"https://banner2.cleanpng.com/20181128/cbr/kisspng-python-programming-basics-for-absolute-beginners-michigan-python-user-group-5-jul-2-18-1713916787253.webp\" width=\"100\">\n",
    "</center>\n",
    "     "
   ]
  }
 ],
 "metadata": {
  "kernelspec": {
   "display_name": "Python 3 (ipykernel)",
   "language": "python",
   "name": "python3"
  },
  "language_info": {
   "codemirror_mode": {
    "name": "ipython",
    "version": 3
   },
   "file_extension": ".py",
   "mimetype": "text/x-python",
   "name": "python",
   "nbconvert_exporter": "python",
   "pygments_lexer": "ipython3",
   "version": "3.9.12"
  }
 },
 "nbformat": 4,
 "nbformat_minor": 5
}
