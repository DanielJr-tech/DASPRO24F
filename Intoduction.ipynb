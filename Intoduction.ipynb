{
 "cells": [
  {
   "cell_type": "markdown",
   "id": "f8a915e5",
   "metadata": {},
   "source": [
    "<img src=\"https://banner2.cleanpng.com/20181128/cbr/kisspng-python-programming-basics-for-absolute-beginners-michigan-python-user-group-5-jul-2-18-1713916787253.webp\" width=\"200\">\n",
    "</center><br>\n",
    "Jenis cell di <b>Jupiter Note Book</b> ada 2\n",
    "<ol>\n",
    "    <li>Mark down (M)</li>\n",
    "    <li>Code (Y)</li>\n",
    "</ol>\n",
    "<hr>\n"
   ]
  },
  {
   "cell_type": "markdown",
   "id": "ecc6e27e",
   "metadata": {},
   "source": [
    "Cara menambah cell ada 2:\n",
    "<ul>\n",
    "    <li> Above (A)</li>\n",
    "    <li> Below (B)</li>\n",
    "</ul>\n",
    "\n",
    "<table>\n",
    "    <tr>\n",
    "        <th>Perintah</th>\n",
    "        <th>Keterangan</th>\n",
    "    </tr>\n",
    "    <tr>\n",
    "        <td>ctrl + enter</td>\n",
    "        <td>Running dan fokus di cell</td>\n",
    "    </tr>\n",
    "    <tr>\n",
    "        <td>Shift + enter</td>\n",
    "        <td>Running dan fokus di cell</td>\n",
    "    </tr>\n",
    "</table>"
   ]
  },
  {
   "cell_type": "code",
   "execution_count": 1,
   "id": "a8175c9f",
   "metadata": {},
   "outputs": [
    {
     "name": "stdout",
     "output_type": "stream",
     "text": [
      "PYTHPON IS VERY EASY\n",
      "15\n",
      "DEKLARASIKAN VARIABEL 'A'\n"
     ]
    },
    {
     "data": {
      "text/plain": [
       "94056893465902"
      ]
     },
     "execution_count": 1,
     "metadata": {},
     "output_type": "execute_result"
    }
   ],
   "source": [
    "print(\"PYTHPON IS VERY EASY\")\n",
    "data = 5\n",
    "data2 = 10\n",
    "print(data + int(data2))\n",
    "print(\"DEKLARASIKAN VARIABEL 'A'\")\n",
    "data2\n",
    "data + 8364783254\n",
    "data2 + 94056893465892"
   ]
  },
  {
   "cell_type": "markdown",
   "id": "eaec762b",
   "metadata": {},
   "source": [
    "<img src=\"https://banner2.cleanpng.com/20181128/cbr/kisspng-python-programming-basics-for-absolute-beginners-michigan-python-user-group-5-jul-2-18-1713916787253.webp\" width=\"200\">\n",
    "</center>\n",
    "     "
   ]
  },
  {
   "cell_type": "code",
   "execution_count": 10,
   "id": "4bed5478",
   "metadata": {},
   "outputs": [
    {
     "name": "stdout",
     "output_type": "stream",
     "text": [
      "nama: Daniel Pasha Al-Kafi\n",
      "umur: 20\n",
      "alamat: JL. Raya Cisaat\n",
      "provinsi: 7413412\n",
      "nilai: 100.0\n",
      "status: True\n"
     ]
    }
   ],
   "source": [
    "name = \"Daniel Pasha Al-Kafi\"\n",
    "age = 20\n",
    "address, province = \"JL. Raya Cisaat\", \"7413412\"\n",
    "pythonscore = 100.0\n",
    "isUnmarried = True\n",
    "\n",
    "print('nama:',name)\n",
    "print('umur:',age)\n",
    "print('alamat:', address)\n",
    "print('provinsi:',province)\n",
    "print('nilai:',pythonscore)\n",
    "print('status:',isUnmarried)"
   ]
  },
  {
   "cell_type": "code",
   "execution_count": 9,
   "id": "c4daab49",
   "metadata": {},
   "outputs": [
    {
     "name": "stdout",
     "output_type": "stream",
     "text": [
      "Tipe Data (nama):  <class 'str'>\n",
      "Tipe Data (age):  <class 'int'>\n",
      "Tipe Data (address):  <class 'str'>\n",
      "Tipe Data (province):  <class 'str'>\n",
      "Tipe Data (pythonscore):  <class 'float'>\n",
      "Tipe Data (isUnmarried):  <class 'bool'>\n"
     ]
    }
   ],
   "source": [
    "print(\"Tipe Data (nama): \",type(name))\n",
    "print(\"Tipe Data (age): \",type(age))\n",
    "print(\"Tipe Data (address): \",type(address))\n",
    "print(\"Tipe Data (province): \",type(province))\n",
    "print(\"Tipe Data (pythonscore): \",type(pythonscore))\n",
    "print(\"Tipe Data (isUnmarried): \",type(isUnmarried))"
   ]
  },
  {
   "cell_type": "code",
   "execution_count": 22,
   "id": "979aebe2",
   "metadata": {},
   "outputs": [
    {
     "name": "stdout",
     "output_type": "stream",
     "text": [
      "7413412 7413412.0 True\n",
      "20 20.0 True\n",
      "100.0 100 True\n",
      "True 1 1.0\n"
     ]
    }
   ],
   "source": [
    "#Casting atau konfersi tipe data\n",
    "\n",
    "strToint = int(province)\n",
    "strTofloat = float(province)\n",
    "strTobool = bool(province)\n",
    "print(strToint,strTofloat,strTobool)\n",
    "\n",
    "intTostr = str(age)\n",
    "intTofloat = float(age)\n",
    "intTobool = bool(age)\n",
    "print(intTostr,intTofloat,intTobool)\n",
    "\n",
    "floatTostr = float(pythonscore)\n",
    "floatToint = int(pythonscore)\n",
    "floatTobool = bool(pythonscore)\n",
    "print(floatTostr,floatToint,floatTobool)\n",
    "\n",
    "boolTostr = str(isUnmarried)\n",
    "boolToint = int(isUnmarried)\n",
    "boolTofloat = float(isUnmarried)\n",
    "print(boolTostr,boolToint,boolTofloat)\n",
    "\n"
   ]
  },
  {
   "cell_type": "code",
   "execution_count": 26,
   "id": "e9d4d98b",
   "metadata": {},
   "outputs": [
    {
     "name": "stdout",
     "output_type": "stream",
     "text": [
      "u\n",
      "8\n",
      "i\n"
     ]
    }
   ],
   "source": [
    "#String adalah kumpulan dari beberapa karakter dan immuntable\n",
    "city = 'Sukabumi'\n",
    "panjang = len(city)\n",
    "print(city[5])\n",
    "print(len(city))\n",
    "print(city[panjang - 1])"
   ]
  },
  {
   "cell_type": "code",
   "execution_count": 38,
   "id": "ad3c0243",
   "metadata": {},
   "outputs": [
    {
     "name": "stdout",
     "output_type": "stream",
     "text": [
      "Nilai Desimal: 500\n",
      "Nilai Biner: 511\n",
      "Nilai Octal: 255\n",
      "Nilai Hexa: 255\n",
      "Biner dari 500 : 0b111110100\n",
      "Octal dari 500 : 0o764\n",
      "Hexadesimal dari 500 : 0x1f4\n",
      "Desimal dari 511 : 511\n"
     ]
    }
   ],
   "source": [
    "desimal = 500\n",
    "biner = 0b111111111\n",
    "octal = 0o377\n",
    "hexa = 0xff\n",
    "\n",
    "print(\"Nilai Desimal:\",desimal)\n",
    "print(\"Nilai Biner:\",biner)\n",
    "print(\"Nilai Octal:\",octal)\n",
    "print(\"Nilai Hexa:\",hexa)\n",
    "\n",
    "print(\"Biner dari\",desimal,\":\",bin(desimal))\n",
    "print(\"Octal dari\",desimal,\":\",oct(desimal))\n",
    "print(\"Hexadesimal dari\",desimal,\":\",hex(desimal))\n"
   ]
  },
  {
   "cell_type": "code",
   "execution_count": 54,
   "id": "ea8054bf",
   "metadata": {},
   "outputs": [
    {
     "name": "stdout",
     "output_type": "stream",
     "text": [
      "['Sukabumi', 'Malang', 'Bandung', 'Surabaya']\n",
      "Sukabumi\n",
      "Surabaya\n",
      "Malang\n",
      "('Work Out', 'Baca Manga', 'Anime')\n",
      "Baca Manga\n",
      "{'name': 'Daniel', 'age': 20, 'address': {'street': 'JL Raya Cisaat', 'number': '48', 'province': 'Kab. Sukabumi'}}\n",
      "20\n",
      "Kab. Sukabumi\n",
      "{'name': 'Apa Aja', 'age': 32, 'address': {'street': 'JL Raya Cisaat', 'number': '846', 'province': 'Kab. Sukabumi'}}\n"
     ]
    }
   ],
   "source": [
    "#Tipe data colection\n",
    "cities = [\"Sukabumi\",\"Malang\",\"Bandung\",\"Surabaya\"]  #List\n",
    "print(cities)\n",
    "print(cities[0])\n",
    "print(cities[len(cities)-1])\n",
    "print(cities[1])\n",
    "\n",
    "\n",
    "hobbies = (\"Work Out\",\"Baca Manga\",\"Anime\")\n",
    "print(hobbies)\n",
    "print(hobbies[1])\n",
    "\n",
    "studentData = {\n",
    "    \"name\" : \"Daniel\",\n",
    "    \"age\" : 20,\n",
    "    \"address\" : {\n",
    "        \"street\" : \"JL Raya Cisaat\",\n",
    "        \"number\" : \"48\",\n",
    "        \"province\" : \"Kab. Sukabumi\"\n",
    "    }\n",
    "}\n",
    "\n",
    "studentList = [\n",
    "    {\n",
    "        \"name\" : \"Daniel\",\n",
    "        \"age\" : 20,\n",
    "        \"address\" : {\n",
    "        \"street\" : \"JL Raya Cisaat\",\n",
    "        \"number\" : \"48\",\n",
    "        \"province\" : \"Kab. Sukabumi\"\n",
    "    }\n",
    "},\n",
    "{\n",
    "        \"name\" : \"Apa Aja\",\n",
    "        \"age\" : 32,\n",
    "        \"address\" : {\n",
    "        \"street\" : \"JL Raya Cisaat\",\n",
    "        \"number\" : \"846\",\n",
    "        \"province\" : \"Kab. Sukabumi\"\n",
    "    }\n",
    "}\n",
    "        \n",
    "]\n",
    "\n",
    "print(studentData)\n",
    "print(studentData[\"age\"])\n",
    "print(studentData[\"address\"][\"province\"])\n",
    "print(studentList[1])"
   ]
  }
 ],
 "metadata": {
  "kernelspec": {
   "display_name": "Python [conda env:base] *",
   "language": "python",
   "name": "conda-base-py"
  },
  "language_info": {
   "codemirror_mode": {
    "name": "ipython",
    "version": 3
   },
   "file_extension": ".py",
   "mimetype": "text/x-python",
   "name": "python",
   "nbconvert_exporter": "python",
   "pygments_lexer": "ipython3",
   "version": "3.12.9"
  }
 },
 "nbformat": 4,
 "nbformat_minor": 5
}
