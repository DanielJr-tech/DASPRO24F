{
 "cells": [
  {
   "cell_type": "markdown",
   "id": "27412807-4280-49e0-a5e7-e9bff75f7e71",
   "metadata": {},
   "source": [
    "<h4>For Variabel in Collection</h4>"
   ]
  },
  {
   "cell_type": "code",
   "execution_count": 2,
   "id": "3ad1865d-c8b2-4861-8d70-557819dd7701",
   "metadata": {},
   "outputs": [
    {
     "name": "stdout",
     "output_type": "stream",
     "text": [
      "Nama Buah :Apel\n",
      "Nama Buah :Pisang\n",
      "Nama Buah :Semangka\n",
      "Nama Buah :Nanas\n"
     ]
    }
   ],
   "source": [
    "buah = [\"Apel\", \"Pisang\", \"Semangka\", \"Nanas\"]\n",
    "for buah in buah:\n",
    "    print(f\"Nama Buah :{buah}\")"
   ]
  },
  {
   "cell_type": "code",
   "execution_count": 12,
   "id": "be03869e-57ec-4988-be53-3bcf1552ea43",
   "metadata": {},
   "outputs": [
    {
     "name": "stdout",
     "output_type": "stream",
     "text": [
      "Nilai Rata-Rata: 71.42857142857143\n"
     ]
    }
   ],
   "source": [
    "#Contoh penggunaan\n",
    "#Kelas TI24F punya data nilai pemrograman Python 80,100,90,70,70,50,40\n",
    "#Carilah niali rata-rata nilai pemrograman Python di kelas TI24F\n",
    "\n",
    "Nilai_Python = [80,100,90,70,70,50,40]\n",
    "total = 0\n",
    "for nilai in Nilai_Python:\n",
    "    total += nilai\n",
    "\n",
    "rata2 = total/len(Nilai_Python)\n",
    "print(f\"Nilai Rata-Rata: {rata2}\")"
   ]
  },
  {
   "cell_type": "code",
   "execution_count": 14,
   "id": "699d0e24-0ee8-4295-97d7-95de890dfc3d",
   "metadata": {},
   "outputs": [
    {
     "name": "stdout",
     "output_type": "stream",
     "text": [
      "0 : Jan\n",
      "1 : Feb\n",
      "2 : Mar\n",
      "3 : Apr\n",
      "4 : Mei\n",
      "5 : Juni\n",
      "6 : Juli\n",
      "7 : Agus\n",
      "8 : Sep\n"
     ]
    }
   ],
   "source": [
    "#Enumerate\n",
    "Bulan = [\"Jan\", \"Feb\", \"Mar\", \"Apr\", \"Mei\", \"Juni\", \"Juli\", \"Agus\", \"Sep\"]\n",
    "for i, m in enumerate(Bulan):\n",
    "    print(f\"{i} : {m}\")"
   ]
  },
  {
   "cell_type": "code",
   "execution_count": 24,
   "id": "4f49061b-a864-47a4-93d4-9e09c39fb6db",
   "metadata": {},
   "outputs": [
    {
     "name": "stdin",
     "output_type": "stream",
     "text": [
      "Masukan Nama Kampus NuSA PutRa UniVERsiTY\n"
     ]
    },
    {
     "name": "stdout",
     "output_type": "stream",
     "text": [
      "N adalah Bukan Huruf Vokal | Total: 0\n",
      "u adalah Huruf Vokal | Total: 1\n",
      "S adalah Bukan Huruf Vokal | Total: 1\n",
      "A adalah Huruf Vokal | Total: 2\n",
      "  adalah Bukan Huruf Vokal | Total: 2\n",
      "P adalah Bukan Huruf Vokal | Total: 2\n",
      "u adalah Huruf Vokal | Total: 3\n",
      "t adalah Bukan Huruf Vokal | Total: 3\n",
      "R adalah Bukan Huruf Vokal | Total: 3\n",
      "a adalah Huruf Vokal | Total: 4\n",
      "  adalah Bukan Huruf Vokal | Total: 4\n",
      "U adalah Huruf Vokal | Total: 5\n",
      "n adalah Bukan Huruf Vokal | Total: 5\n",
      "i adalah Huruf Vokal | Total: 6\n",
      "V adalah Bukan Huruf Vokal | Total: 6\n",
      "E adalah Huruf Vokal | Total: 7\n",
      "R adalah Bukan Huruf Vokal | Total: 7\n",
      "s adalah Bukan Huruf Vokal | Total: 7\n",
      "i adalah Huruf Vokal | Total: 8\n",
      "T adalah Bukan Huruf Vokal | Total: 8\n",
      "Y adalah Bukan Huruf Vokal | Total: 8\n",
      "Jumlah Vokal Adalah: 8\n"
     ]
    }
   ],
   "source": [
    "kampus = input(\"Masukan Nama Kampus\")\n",
    "listVokal = [\"a\", \"i\", \"u\", \"e\", \"o\", \"A\", \"I\", \"U\", \"E\", \"O\"]\n",
    "total = 0\n",
    "isVokal = \"\"\n",
    "for karakter in kampus:\n",
    "    if karakter in listVokal:\n",
    "        total +=1\n",
    "        isVokal = \"Huruf Vokal\"\n",
    "    else:\n",
    "        isVokal = \"Bukan Huruf Vokal\"\n",
    "    print(f\"{karakter} adalah {isVokal} | Total: {total}\") #Berapa Banyak Huruf Vokal \"a,i,u,e,o\"\n",
    "print(f\"Jumlah Vokal Adalah: {total}\")\n"
   ]
  },
  {
   "cell_type": "code",
   "execution_count": 30,
   "id": "960a0547-47cf-42e6-9979-67dfb5f3ccfd",
   "metadata": {},
   "outputs": [
    {
     "name": "stdout",
     "output_type": "stream",
     "text": [
      "[1, 8, 27, 64, 125]\n"
     ]
    }
   ],
   "source": [
    "#lOOPING LIST COMPERHANSION\n",
    "data = [1,2,3,4,5]\n",
    "pangkat = [x**2 for x in data]\n",
    "print(pangkat)"
   ]
  },
  {
   "cell_type": "code",
   "execution_count": 36,
   "id": "61c981df-080d-43f6-8469-17bed1eb31a8",
   "metadata": {},
   "outputs": [
    {
     "name": "stdout",
     "output_type": "stream",
     "text": [
      "Nilai i Adalah: 0\n",
      "Nilai i Adalah: 1\n",
      "Nilai i Adalah: 2\n",
      "Nilai i Adalah: 3\n",
      "Nilai i Adalah: 4\n",
      "Nilai i Adalah: 5\n",
      "Nilai i Adalah: 6\n",
      "Nilai i Adalah: 7\n",
      "Nilai i Adalah: 8\n",
      "Nilai i Adalah: 9\n"
     ]
    }
   ],
   "source": [
    "#RANGE\n",
    "for i in range(10):\n",
    "    print(f\"Nilai i Adalah: {i}\")"
   ]
  },
  {
   "cell_type": "code",
   "execution_count": 40,
   "id": "3ae57c62-285a-4cb0-b08a-4a5e156321fa",
   "metadata": {},
   "outputs": [],
   "source": [
    "for j in range(5,10):\n",
    "    print(f\"Nilai j Adalah: {j}\")"
   ]
  },
  {
   "cell_type": "code",
   "execution_count": 48,
   "id": "6a7c5d96-69ba-4103-8771-2dc7f4145d18",
   "metadata": {},
   "outputs": [
    {
     "name": "stdin",
     "output_type": "stream",
     "text": [
      "Isikan Bilangan: 7\n"
     ]
    },
    {
     "name": "stdout",
     "output_type": "stream",
     "text": [
      "7 adalah Bilangan Prima\n"
     ]
    }
   ],
   "source": [
    "#CEK BILANGAN PRIMA ATAU BUKAN PRIMA\n",
    "bilangan = int(input(\"Isikan Bilangan:\"))\n",
    "faktor = 0\n",
    "for i in range (1, bilangan+1):\n",
    "    if bilangan % i == 0:\n",
    "        faktor +=1\n",
    "if faktor ==2:\n",
    "    print(f\"{bilangan} adalah Bilangan Prima\")\n",
    "else:\n",
    "    print(f\"{bilangan} adalah Bukan Bilangan Prima\")\n",
    "    "
   ]
  },
  {
   "cell_type": "code",
   "execution_count": 50,
   "id": "5755131b-e530-4d85-8d56-ac028695b211",
   "metadata": {},
   "outputs": [
    {
     "name": "stdin",
     "output_type": "stream",
     "text": [
      "Isikan Bilangan:  5\n"
     ]
    },
    {
     "name": "stdout",
     "output_type": "stream",
     "text": [
      "5! = 1\n",
      "5! = 2\n",
      "5! = 6\n",
      "5! = 24\n",
      "5! = 120\n"
     ]
    }
   ],
   "source": [
    "#FAKTORIAL\n",
    "#3! = 3 * 2 * 1 = 6\n",
    "#4! = 4 * 3 * 2 * 1 = 24\n",
    "total = 1\n",
    "bilangan = int(input(\"Isikan Bilangan: \"))\n",
    "for i in range(1, bilangan+1):\n",
    "    total *= i\n",
    "    print(f\"{bilangan}! = {total}\")"
   ]
  },
  {
   "cell_type": "code",
   "execution_count": 58,
   "id": "2d77b5dd-f2f7-46ef-8339-c65236ce6006",
   "metadata": {},
   "outputs": [
    {
     "name": "stdin",
     "output_type": "stream",
     "text": [
      "Isikan Bilangan:  10\n"
     ]
    },
    {
     "name": "stdout",
     "output_type": "stream",
     "text": [
      "1 -2 3 -4 5 -6 7 -8 9 -10 "
     ]
    }
   ],
   "source": [
    "#1 -2 3 -4 5 -6 7 -8 9 -10\n",
    "bilangan = int(input(\"Isikan Bilangan: \"))\n",
    "tanda = 1\n",
    "for i in range(1, bilangan+1):\n",
    "    result = tanda * i\n",
    "    print(f\"{result} \", end='')\n",
    "    tanda *= -1"
   ]
  },
  {
   "cell_type": "code",
   "execution_count": 64,
   "id": "1e513d7a-b323-40a0-b4c4-3c08632e1940",
   "metadata": {},
   "outputs": [
    {
     "name": "stdout",
     "output_type": "stream",
     "text": [
      "Jumlah Penonton Laki-Laki: 4\n",
      "Jumlah Penonton Perempuan: 3\n"
     ]
    }
   ],
   "source": [
    "kursiBioskop = [\"L\", \"P\", \"P\", \"L\", \"L\", \"P\", \"L\"]\n",
    "#HITUNG JUMLAH PENONTON LAKI-LAKI\n",
    "#HITUNG HUMLAH PENONTON PEREMPUAN\n",
    "totalLaki = 0\n",
    "for jenis in kursiBioskop:\n",
    "    if jenis==\"L\":\n",
    "        totalLaki +=1\n",
    "print(f\"Jumlah Penonton Laki-Laki: {totalLaki}\")\n",
    "print(f\"Jumlah Penonton Perempuan: {len(kursiBioskop)-totalLaki}\")"
   ]
  },
  {
   "cell_type": "code",
   "execution_count": 66,
   "id": "385fd26f-1503-430e-857f-d7daa6e0f776",
   "metadata": {},
   "outputs": [
    {
     "name": "stdout",
     "output_type": "stream",
     "text": [
      "Jumlah Couple: 4\n"
     ]
    }
   ],
   "source": [
    "#HITUNG JUMLAH ORANG YANG KEMUNGKINAN BERPASANGAN\n",
    "kursi = [\"L\", \"P\", \"P\", \"L\", \"L\", \"P\", \"L\"]\n",
    "couple = 0\n",
    "for i in range(len(kursi)-1):\n",
    "    if kursi[i] != kursi[i+1]:\n",
    "        couple+=1\n",
    "print(f\"Jumlah Couple: {couple}\")"
   ]
  },
  {
   "cell_type": "code",
   "execution_count": 70,
   "id": "5b64cb7c-9efc-4264-840d-01e58edf25c0",
   "metadata": {},
   "outputs": [
    {
     "name": "stdout",
     "output_type": "stream",
     "text": [
      "fnama : Daniel\n",
      "lnama : Robi\n"
     ]
    }
   ],
   "source": [
    "data = {\n",
    "    \"fnama\" : \"Daniel\",\n",
    "    \"lnama\" : \"Robi\"\n",
    "}\n",
    "for key,value in data.items():\n",
    "    print(f\"{key} : {value}\")"
   ]
  },
  {
   "cell_type": "code",
   "execution_count": null,
   "id": "5cb4fd52-6cab-475f-a8aa-de3fa259bb2b",
   "metadata": {},
   "outputs": [],
   "source": [
    "tahu = [10, 10, 10, 10, 10, 10]\n",
    "#Harga 1 tahu = 2000\n",
    "#Jika ada orang membeli  15\n",
    "# Total Harga = 30000\n",
    "#[0,5,10,10,10,10]"
   ]
  }
 ],
 "metadata": {
  "kernelspec": {
   "display_name": "Python [conda env:base] *",
   "language": "python",
   "name": "conda-base-py"
  },
  "language_info": {
   "codemirror_mode": {
    "name": "ipython",
    "version": 3
   },
   "file_extension": ".py",
   "mimetype": "text/x-python",
   "name": "python",
   "nbconvert_exporter": "python",
   "pygments_lexer": "ipython3",
   "version": "3.12.9"
  }
 },
 "nbformat": 4,
 "nbformat_minor": 5
}
